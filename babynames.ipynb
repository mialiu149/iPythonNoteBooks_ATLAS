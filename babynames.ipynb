{
 "metadata": {
  "name": ""
 },
 "nbformat": 3,
 "nbformat_minor": 0,
 "worksheets": [
  {
   "cells": [
    {
     "cell_type": "code",
     "collapsed": false,
     "input": [
      "%pylab inline"
     ],
     "language": "python",
     "metadata": {},
     "outputs": [
      {
       "output_type": "stream",
       "stream": "stdout",
       "text": [
        "Populating the interactive namespace from numpy and matplotlib\n"
       ]
      }
     ],
     "prompt_number": 1
    },
    {
     "cell_type": "code",
     "collapsed": false,
     "input": [
      "#!/usr/bin/python\n",
      "# Copyright 2010 Google Inc.\n",
      "# Licensed under the Apache License, Version 2.0\n",
      "# http://www.apache.org/licenses/LICENSE-2.0\n",
      "\n",
      "# Google's Python Class\n",
      "# http://code.google.com/edu/languages/google-python-class/\n",
      "\n",
      "import sys\n",
      "import re\n",
      "\n",
      "\"\"\"Baby Names exercise\n",
      "\n",
      "Define the extract_names() function below and change main()\n",
      "to call it.\n",
      "\n",
      "For writing regex, it's nice to include a copy of the target\n",
      "text for inspiration.\n",
      "\n",
      "Here's what the html looks like in the baby.html files:\n",
      "...\n",
      "<h3 align=\"center\">Popularity in 1990</h3>\n",
      "....\n",
      "<tr align=\"right\"><td>1</td><td>Michael</td><td>Jessica</td>\n",
      "<tr align=\"right\"><td>2</td><td>Christopher</td><td>Ashley</td>\n",
      "<tr align=\"right\"><td>3</td><td>Matthew</td><td>Brittany</td>\n",
      "...\n",
      "\n",
      "Suggested milestones for incremental development:\n",
      " -Extract the year and print it\n",
      " -Extract the names and rank numbers and just print them\n",
      " -Get the names data into a dict and print it\n",
      " -Build the [year, 'name rank', ... ] list and print it\n",
      " -Fix main() to use the extract_names list\n",
      "\"\"\"\n",
      "\n",
      "def extract_names(filename):\n",
      "  \"\"\"\n",
      "  Given a file name for baby.html, returns a list starting with the year string\n",
      "  followed by the name-rank strings in alphabetical order.\n",
      "  ['2006', 'Aaliyah 91', Aaron 57', 'Abagail 895', ' ...]\n",
      "  \"\"\"\n",
      "  # +++your code here+++\n",
      "  f = open(filename)\n",
      "  lines = f.read()\n",
      "  match = re.search('Popularity\\s\\w\\w\\s(\\d+)',lines)\n",
      "  year = match.group(1)\n",
      "  boy_names_rank = re.findall(r'<td>(\\d+)</td><td>(\\w+)</td><td>',lines)\n",
      "  girl_names_rank = re.findall(r'<td>(\\d+)</td><td>\\w+</td><td>(\\w+)',lines)\n",
      "  name_rank_list=[year]\n",
      "  #sorted(girl_names_rank)\n",
      "  #for boy in boy_names_rank: name_rank_list.append(boy.at(0)+''+boy.at(1))\n",
      "  print year, name_rank_list\n",
      "  print girl_names_rank\n",
      "  return\n",
      "\n",
      "\n",
      "def main():\n",
      "  # This command-line parsing code is provided.\n",
      "  # Make a list of command line arguments, omitting the [0] element\n",
      "  # which is the script itself.\n",
      "  args = sys.argv[1:]\n",
      "\n",
      "  if not args:\n",
      "    print 'usage: [--summaryfile] file [file ...]'\n",
      "    sys.exit(1)\n",
      "\n",
      "  # Notice the summary flag and remove it from args if it is present.\n",
      "  summary = False\n",
      "  if args[0] == '--summaryfile':\n",
      "    summary = True\n",
      "    del args[0]\n",
      "\n",
      "  # +++your code here+++\n",
      "  # For each filename, get the names, then either print the text output\n",
      "  # or write it to a summary file\n",
      "  \n",
      "if __name__ == '__main__':\n",
      "  main()\n"
     ],
     "language": "python",
     "metadata": {},
     "outputs": [],
     "prompt_number": 49
    },
    {
     "cell_type": "code",
     "collapsed": false,
     "input": [
      "extract_names('google-python-exercises/babynames/baby1990.html')\n"
     ],
     "language": "python",
     "metadata": {},
     "outputs": [
      {
       "output_type": "stream",
       "stream": "stdout",
       "text": [
        "1990 ['1990']\n",
        "[('1', 'Jessica'), ('2', 'Ashley'), ('3', 'Brittany'), ('4', 'Amanda'), ('5', 'Samantha'), ('6', 'Sarah'), ('7', 'Stephanie'), ('8', 'Jennifer'), ('9', 'Elizabeth'), ('10', 'Lauren'), ('11', 'Megan'), ('12', 'Emily'), ('13', 'Nicole'), ('14', 'Kayla'), ('15', 'Amber'), ('16', 'Rachel'), ('17', 'Courtney'), ('18', 'Danielle'), ('19', 'Heather'), ('20', 'Melissa'), ('21', 'Rebecca'), ('22', 'Michelle'), ('23', 'Tiffany'), ('24', 'Chelsea'), ('25', 'Christina'), ('26', 'Katherine'), ('27', 'Alyssa'), ('28', 'Jasmine'), ('29', 'Laura'), ('30', 'Hannah'), ('31', 'Kimberly'), ('32', 'Kelsey'), ('33', 'Victoria'), ('34', 'Sara'), ('35', 'Mary'), ('36', 'Erica'), ('37', 'Alexandra'), ('38', 'Amy'), ('39', 'Crystal'), ('40', 'Andrea'), ('41', 'Kelly'), ('42', 'Kristen'), ('43', 'Erin'), ('44', 'Brittney'), ('45', 'Anna'), ('46', 'Taylor'), ('47', 'Maria'), ('48', 'Allison'), ('49', 'Cassandra'), ('50', 'Caitlin'), ('51', 'Lindsey'), ('52', 'Angela'), ('53', 'Alicia'), ('54', 'Jamie'), ('55', 'Katie'), ('56', 'Vanessa'), ('57', 'Kathryn'), ('58', 'Morgan'), ('59', 'Jordan'), ('60', 'Whitney'), ('61', 'Brianna'), ('62', 'Christine'), ('63', 'Natalie'), ('64', 'Lisa'), ('65', 'Kristin'), ('66', 'Alexis'), ('67', 'Jacqueline'), ('68', 'Shannon'), ('69', 'Lindsay'), ('70', 'Brooke'), ('71', 'Catherine'), ('72', 'Olivia'), ('73', 'April'), ('74', 'Erika'), ('75', 'Katelyn'), ('76', 'Monica'), ('77', 'Kristina'), ('78', 'Kaitlyn'), ('79', 'Paige'), ('80', 'Molly'), ('81', 'Jenna'), ('82', 'Leah'), ('83', 'Julia'), ('84', 'Bianca'), ('85', 'Tara'), ('86', 'Melanie'), ('87', 'Marissa'), ('88', 'Cynthia'), ('89', 'Holly'), ('90', 'Abigail'), ('91', 'Meghan'), ('92', 'Kathleen'), ('93', 'Julie'), ('94', 'Ariel'), ('95', 'Alexandria'), ('96', 'Veronica'), ('97', 'Patricia'), ('98', 'Gabrielle'), ('99', 'Diana'), ('100', 'Shelby'), ('101', 'Kaitlin'), ('102', 'Margaret'), ('103', 'Brandi'), ('104', 'Krystal'), ('105', 'Natasha'), ('106', 'Casey'), ('107', 'Bethany'), ('108', 'Haley'), ('109', 'Briana'), ('110', 'Kara'), ('111', 'Rachael'), ('112', 'Miranda'), ('113', 'Breanna'), ('114', 'Dana'), ('115', 'Leslie'), ('116', 'Caroline'), ('117', 'Kendra'), ('118', 'Sabrina'), ('119', 'Angelica'), ('120', 'Karen'), ('121', 'Felicia'), ('122', 'Jillian'), ('123', 'Brenda'), ('124', 'Ana'), ('125', 'Desiree'), ('126', 'Meagan'), ('127', 'Katrina'), ('128', 'Chelsey'), ('129', 'Valerie'), ('130', 'Emma'), ('131', 'Nancy'), ('132', 'Monique'), ('133', 'Alison'), ('134', 'Sandra'), ('135', 'Alisha'), ('136', 'Britney'), ('137', 'Brandy'), ('138', 'Joanna'), ('139', 'Gina'), ('140', 'Grace'), ('141', 'Sierra'), ('142', 'Candace'), ('143', 'Jaclyn'), ('144', 'Adriana'), ('145', 'Krista'), ('146', 'Alexa'), ('147', 'Candice'), ('148', 'Lacey'), ('149', 'Rebekah'), ('150', 'Sydney'), ('151', 'Nichole'), ('152', 'Denise'), ('153', 'Dominique'), ('154', 'Ashlee'), ('155', 'Anne'), ('156', 'Yesenia'), ('157', 'Kirsten'), ('158', 'Deanna'), ('159', 'Claire'), ('160', 'Colleen'), ('161', 'Audrey'), ('162', 'Mallory'), ('163', 'Carly'), ('164', 'Tabitha'), ('165', 'Cristina'), ('166', 'Raven'), ('167', 'Priscilla'), ('168', 'Stacey'), ('169', 'Carolyn'), ('170', 'Carrie'), ('171', 'Kiara'), ('172', 'Susan'), ('173', 'Stacy'), ('174', 'Angel'), ('175', 'Linda'), ('176', 'Mercedes'), ('177', 'Autumn'), ('178', 'Ashleigh'), ('179', 'Kylie'), ('180', 'Teresa'), ('181', 'Kelli'), ('182', 'Gabriela'), ('183', 'Caitlyn'), ('184', 'Renee'), ('185', 'Cindy'), ('186', 'Arielle'), ('187', 'Ebony'), ('188', 'Justine'), ('189', 'Karina'), ('190', 'Meredith'), ('191', 'Bridget'), ('192', 'Hillary'), ('193', 'Daisy'), ('194', 'Amelia'), ('195', 'Mayra'), ('196', 'Theresa'), ('197', 'Madeline'), ('198', 'Sasha'), ('199', 'Claudia'), ('200', 'Heidi'), ('201', 'Robin'), ('202', 'Destiny'), ('203', 'Madison'), ('204', 'Savannah'), ('205', 'Wendy'), ('206', 'Lydia'), ('207', 'Melinda'), ('208', 'Ellen'), ('209', 'Tamara'), ('210', 'Barbara'), ('211', 'Alejandra'), ('212', 'Chloe'), ('213', 'Marie'), ('214', 'Jenny'), ('215', 'Virginia'), ('216', 'Kasey'), ('217', 'Carmen'), ('218', 'Jade'), ('219', 'Jocelyn'), ('220', 'Evelyn'), ('221', 'Jacquelyn'), ('222', 'Abby'), ('223', 'Janet'), ('224', 'Tracy'), ('225', 'Cortney'), ('226', 'Bailey'), ('227', 'Ariana'), ('228', 'Cassie'), ('229', 'Martha'), ('230', 'Brittani'), ('231', 'Jasmin'), ('232', 'Hilary'), ('233', 'Adrienne'), ('234', 'Kaylee'), ('235', 'Cara'), ('236', 'Allyson'), ('237', 'Pamela'), ('238', 'Kristine'), ('239', 'Raquel'), ('240', 'Tina'), ('241', 'Gloria'), ('242', 'Rosa'), ('243', 'Camille'), ('244', 'Michele'), ('245', 'Tiara'), ('246', 'Tasha'), ('247', 'Mackenzie'), ('248', 'Kristy'), ('249', 'Shawna'), ('250', 'Sophia'), ('251', 'Ann'), ('252', 'Tanya'), ('253', 'Latoya'), ('254', 'Jessie'), ('255', 'Marisa'), ('256', 'Kari'), ('257', 'Carissa'), ('258', 'Janelle'), ('259', 'Mariah'), ('260', 'Nina'), ('261', 'Angelina'), ('262', 'Deborah'), ('263', 'Carla'), ('264', 'Kellie'), ('265', 'Elise'), ('266', 'Hope'), ('267', 'Hayley'), ('268', 'Cierra'), ('269', 'Kristi'), ('270', 'Kate'), ('271', 'Summer'), ('272', 'Aimee'), ('273', 'Chelsie'), ('274', 'Sharon'), ('275', 'Toni'), ('276', 'Alissa'), ('277', 'Devon'), ('278', 'Misty'), ('279', 'Karla'), ('280', 'Jeanette'), ('281', 'Regina'), ('282', 'Nikki'), ('283', 'Tatiana'), ('284', 'Christy'), ('285', 'Miriam'), ('286', 'Esther'), ('287', 'Charlotte'), ('288', 'Maggie'), ('289', 'Stefanie'), ('290', 'Tessa'), ('291', 'Ruby'), ('292', 'Gabriella'), ('293', 'Hailey'), ('294', 'Ciara'), ('295', 'Faith'), ('296', 'Paula'), ('297', 'Callie'), ('298', 'Aubrey'), ('299', 'Asia'), ('300', 'Naomi'), ('301', 'Jazmine'), ('302', 'Carolina'), ('303', 'Tia'), ('304', 'Jazmin'), ('305', 'Trisha'), ('306', 'Ruth'), ('307', 'Rose'), ('308', 'Kelley'), ('309', 'Robyn'), ('310', 'Jaime'), ('311', 'Michaela'), ('312', 'Kassandra'), ('313', 'Karissa'), ('314', 'Melody'), ('315', 'Sonia'), ('316', 'Devin'), ('317', 'Donna'), ('318', 'Brianne'), ('319', 'Christian'), ('320', 'Helen'), ('321', 'Kelsie'), ('322', 'Clarissa'), ('323', 'Lori'), ('324', 'Marina'), ('325', 'Adrianna'), ('326', 'Cecilia'), ('327', 'Shaniqua'), ('328', 'Guadalupe'), ('329', 'Jill'), ('330', 'Cheyenne'), ('331', 'Ashton'), ('332', 'Rachelle'), ('333', 'Sylvia'), ('334', 'Annie'), ('335', 'Taryn'), ('336', 'Roxanne'), ('337', 'Shayla'), ('338', 'Randi'), ('339', 'Isabel'), ('340', 'Leticia'), ('341', 'Mia'), ('342', 'Hanna'), ('343', 'Katlyn'), ('344', 'Eva'), ('345', 'Jane'), ('346', 'Simone'), ('347', 'Alice'), ('348', 'Elisabeth'), ('349', 'Shana'), ('350', 'Carol'), ('351', 'Frances'), ('352', 'Tierra'), ('353', 'Elena'), ('354', 'Antoinette'), ('355', 'Lacy'), ('356', 'Ericka'), ('357', 'Brittni'), ('358', 'Alyson'), ('359', 'Dawn'), ('360', 'Latasha'), ('361', 'Yvette'), ('362', 'Chantel'), ('363', 'Diane'), ('364', 'Shauna'), ('365', 'Tonya'), ('366', 'Lillian'), ('367', 'Meaghan'), ('368', 'Alana'), ('369', 'Liliana'), ('370', 'Suzanne'), ('371', 'Yvonne'), ('372', 'Christa'), ('373', 'Chasity'), ('374', 'Johanna'), ('375', 'Joy'), ('376', 'Kristie'), ('377', 'Rochelle'), ('378', 'Katelynn'), ('379', 'Sandy'), ('380', 'Bonnie'), ('381', 'Daniela'), ('382', 'Anastasia'), ('383', 'Lorena'), ('384', 'Lyndsey'), ('385', 'Tanisha'), ('386', 'Alma'), ('387', 'Irene'), ('388', 'Keri'), ('389', 'Leanna'), ('390', 'Marlene'), ('391', 'Yolanda'), ('392', 'Beth'), ('393', 'Maribel'), ('394', 'Charlene'), ('395', 'Nadia'), ('396', 'Keisha'), ('397', 'Blanca'), ('398', 'Celeste'), ('399', 'Maya'), ('400', 'Marisol'), ('401', 'Katharine'), ('402', 'Kourtney'), ('403', 'Larissa'), ('404', 'Kendall'), ('405', 'Anita'), ('406', 'Corinne'), ('407', 'Casandra'), ('408', 'Shaina'), ('409', 'Elaine'), ('410', 'Alysha'), ('411', 'Arianna'), ('412', 'Shayna'), ('413', 'Sheila'), ('414', 'Kayleigh'), ('415', 'Cheryl'), ('416', 'Tabatha'), ('417', 'Iris'), ('418', 'Brenna'), ('419', 'Chanel'), ('420', 'Stacie'), ('421', 'Elisa'), ('422', 'Kylee'), ('423', 'Mindy'), ('424', 'Tiana'), ('425', 'Esmeralda'), ('426', 'Dorothy'), ('427', 'Juliana'), ('428', 'Kyla'), ('429', 'Diamond'), ('430', 'Shanna'), ('431', 'Nora'), ('432', 'Marilyn'), ('433', 'Kierra'), ('434', 'Infant'), ('435', 'Kaila'), ('436', 'Christie'), ('437', 'Josephine'), ('438', 'Kerri'), ('439', 'Staci'), ('440', 'Bridgette'), ('441', 'Alaina'), ('442', 'Stephany'), ('443', 'Ciera'), ('444', 'Julianne'), ('445', 'Kali'), ('446', 'Jalisa'), ('447', 'Kerry'), ('448', 'Vivian'), ('449', 'Sally'), ('450', 'Tammy'), ('451', 'Lucy'), ('452', 'Precious'), ('453', 'Debra'), ('454', 'Judith'), ('455', 'Sadie'), ('456', 'Tiffani'), ('457', 'Kirstie'), ('458', 'Charity'), ('459', 'Margarita'), ('460', 'Alisa'), ('461', 'Krystle'), ('462', 'Mollie'), ('463', 'Noelle'), ('464', 'Eileen'), ('465', 'Francesca'), ('466', 'Tori'), ('467', 'Mandy'), ('468', 'Cassidy'), ('469', 'Leigh'), ('470', 'Sheena'), ('471', 'Patrice'), ('472', 'Beatriz'), ('473', 'Jodi'), ('474', 'Alanna'), ('475', 'Traci'), ('476', 'Ashlie'), ('477', 'Janice'), ('478', 'Natalia'), ('479', 'Joyce'), ('480', 'Jordyn'), ('481', 'Desirae'), ('482', 'Abbey'), ('483', 'Connie'), ('484', 'Darlene'), ('485', 'Genevieve'), ('486', 'Maritza'), ('487', 'Blair'), ('488', 'India'), ('489', 'Tania'), ('490', 'Mckenzie'), ('491', 'Britany'), ('492', 'Tracey'), ('493', 'Latisha'), ('494', 'Norma'), ('495', 'Kelsi'), ('496', 'Tricia'), ('497', 'Maureen'), ('498', 'Breanne'), ('499', 'Shantel'), ('500', 'Daniella'), ('501', 'Angelia'), ('502', 'Janae'), ('503', 'Kathy'), ('504', 'Zoe'), ('505', 'Serena'), ('506', 'Constance'), ('507', 'Jaimie'), ('508', 'Mariana'), ('509', 'Rosemary'), ('510', 'Shirley'), ('511', 'Nicolette'), ('512', 'Sonya'), ('513', 'Annette'), ('514', 'Katy'), ('515', 'Loren'), ('516', 'Lea'), ('517', 'Kacie'), ('518', 'Cristal'), ('519', 'Jami'), ('520', 'Kristyn'), ('521', 'Beverly'), ('522', 'Clara'), ('523', 'Jackie'), ('524', 'Alycia'), ('525', 'Ryan'), ('526', 'Elyse'), ('527', 'Kira'), ('528', 'Lena'), ('529', 'Juanita'), ('530', 'Gladys'), ('531', 'Kaleigh'), ('532', 'Laurel'), ('533', 'Isamar'), ('534', 'Leanne'), ('535', 'Ashly'), ('536', 'Justina'), ('537', 'Tyler'), ('538', 'Lara'), ('539', 'Lesley'), ('540', 'Mara'), ('541', 'Jacklyn'), ('542', 'Paris'), ('543', 'Kala'), ('544', 'Carina'), ('545', 'Jana'), ('546', 'Breana'), ('547', 'Rita'), ('548', 'Rocio'), ('549', 'Whitley'), ('550', 'Cayla'), ('551', 'Brandie'), ('552', 'Chantal'), ('553', 'Brittanie'), ('554', 'Terri'), ('555', 'Susana'), ('556', 'Araceli'), ('557', 'Alexia'), ('558', 'Eliza'), ('559', 'Ashlyn'), ('560', 'Edith'), ('561', 'Joanne'), ('562', 'Jena'), ('563', 'Skylar'), ('564', 'Kirstin'), ('565', 'Shelly'), ('566', 'Kiera'), ('567', 'Katelin'), ('568', 'Aisha'), ('569', 'Sade'), ('570', 'Kyra'), ('571', 'Paulina'), ('572', 'Tamika'), ('573', 'Tess'), ('574', 'Cecily'), ('575', 'Judy'), ('576', 'Maegan'), ('577', 'Betty'), ('578', 'Madeleine'), ('579', 'Allie'), ('580', 'Lynn'), ('581', 'Sherry'), ('582', 'Lucia'), ('583', 'Maricela'), ('584', 'Jennie'), ('585', 'Lily'), ('586', 'Angie'), ('587', 'Lakeisha'), ('588', 'Emilee'), ('589', 'Celia'), ('590', 'Genesis'), ('591', 'Brittny'), ('592', 'Noemi'), ('593', 'Keshia'), ('594', 'Dianna'), ('595', 'Jayme'), ('596', 'Maranda'), ('597', 'Dakota'), ('598', 'Eleanor'), ('599', 'Savanna'), ('600', 'Jessika'), ('601', 'Kaley'), ('602', 'Kailey'), ('603', 'Adrian'), ('604', 'Luz'), ('605', 'Rhonda'), ('606', 'Sophie'), ('607', 'Talia'), ('608', 'Jerrica'), ('609', 'Hollie'), ('610', 'Logan'), ('611', 'Britni'), ('612', 'Shante'), ('613', 'Silvia'), ('614', 'Kenya'), ('615', 'Christin'), ('616', 'Emilie'), ('617', 'Marisela'), ('618', 'Octavia'), ('619', 'Josie'), ('620', 'Kiersten'), ('621', 'Kaci'), ('622', 'Fatima'), ('623', 'Jenifer'), ('624', 'Belinda'), ('625', 'Lizette'), ('626', 'Gretchen'), ('627', 'Katlin'), ('628', 'Kristian'), ('629', 'Lizbeth'), ('630', 'Terra'), ('631', 'Angelique'), ('632', 'Ashely'), ('633', 'Bryanna'), ('634', 'Janette'), ('635', 'Yadira'), ('636', 'Perla'), ('637', 'Racheal'), ('638', 'Bobbie'), ('639', 'Danica'), ('640', 'Dayna'), ('641', 'Macy'), ('642', 'Lacie'), ('643', 'Alysia'), ('644', 'Maura'), ('645', 'Sofia'), ('646', 'Corina'), ('647', 'Elisha'), ('648', 'Jesse'), ('649', 'Laurie'), ('650', 'Christen'), ('651', 'Kacey'), ('652', 'Stevie'), ('653', 'Alexandrea'), ('654', 'Kaitlynn'), ('655', 'Jaleesa'), ('656', 'Lorraine'), ('657', 'Clare'), ('658', 'Julianna'), ('659', 'Janine'), ('660', 'Nikita'), ('661', 'Antonia'), ('662', 'Nathalie'), ('663', 'Yessenia'), ('664', 'Alina'), ('665', 'Paola'), ('666', 'Kimberley'), ('667', 'Viviana'), ('668', 'Janie'), ('669', 'Devan'), ('670', 'Kasandra'), ('671', 'Corey'), ('672', 'Rhiannon'), ('673', 'Audra'), ('674', 'Janessa'), ('675', 'Cameron'), ('676', 'Kortney'), ('677', 'Kaylyn'), ('678', 'Alecia'), ('679', 'Gwendolyn'), ('680', 'Yasmin'), ('681', 'Valeria'), ('682', 'Arlene'), ('683', 'Irma'), ('684', 'Joann'), ('685', 'Abbie'), ('686', 'Roxana'), ('687', 'Ali'), ('688', 'Brittaney'), ('689', 'Skye'), ('690', 'Shanae'), ('691', 'Tiffanie'), ('692', 'Kristal'), ('693', 'Leann'), ('694', 'Nadine'), ('695', 'Alesha'), ('696', 'Chrystal'), ('697', 'Eden'), ('698', 'Amie'), ('699', 'Domonique'), ('700', 'Lauryn'), ('701', 'Myra'), ('702', 'Latifah'), ('703', 'Shelley'), ('704', 'Celina'), ('705', 'Cori'), ('706', 'Giselle'), ('707', 'Krysta'), ('708', 'Tayler'), ('709', 'Allyssa'), ('710', 'Kimberlee'), ('711', 'Mikayla'), ('712', 'Tianna'), ('713', 'Brittnee'), ('714', 'Kanisha'), ('715', 'Lyndsay'), ('716', 'Aurora'), ('717', 'Georgia'), ('718', 'Kaylin'), ('719', 'Janay'), ('720', 'Beatrice'), ('721', 'Chantelle'), ('722', 'Ashli'), ('723', 'Britny'), ('724', 'Cassondra'), ('725', 'Rebeca'), ('726', 'Reyna'), ('727', 'Shanice'), ('728', 'Shanika'), ('729', 'Jerica'), ('730', 'Griselda'), ('731', 'Athena'), ('732', 'Iesha'), ('733', 'Madelyn'), ('734', 'Rubi'), ('735', 'Bernadette'), ('736', 'Porsha'), ('737', 'Ingrid'), ('738', 'Skyler'), ('739', 'Betsy'), ('740', 'Iliana'), ('741', 'Stefani'), ('742', 'Chandra'), ('743', 'Elissa'), ('744', 'Debbie'), ('745', 'Trista'), ('746', 'Anabel'), ('747', 'Deja'), ('748', 'Kassie'), ('749', 'Latrice'), ('750', 'Michael'), ('751', 'Kandace'), ('752', 'Kandice'), ('753', 'Kiley'), ('754', 'Krystina'), ('755', 'Dina'), ('756', 'Pauline'), ('757', 'Martika'), ('758', 'Kiana'), ('759', 'Marcella'), ('760', 'Princess'), ('761', 'Carley'), ('762', 'Chelsi'), ('763', 'Joan'), ('764', 'Daphne'), ('765', 'Selina'), ('766', 'Bobbi'), ('767', 'Keely'), ('768', 'Lora'), ('769', 'Tiera'), ('770', 'Ivy'), ('771', 'Jean'), ('772', 'Jeannette'), ('773', 'Mikaela'), ('774', 'Felisha'), ('775', 'Breann'), ('776', 'Julissa'), ('777', 'Melisa'), ('778', 'Hallie'), ('779', 'Kelsea'), ('780', 'Selena'), ('781', 'Kathrine'), ('782', 'Darcy'), ('783', 'Adrianne'), ('784', 'Laci'), ('785', 'Monika'), ('786', 'Olga'), ('787', 'Phylicia'), ('788', 'Kim'), ('789', 'Marquita'), ('790', 'Noel'), ('791', 'Jaqueline'), ('792', 'Joelle'), ('793', 'Kori'), ('794', 'Eboni'), ('795', 'Jolene'), ('796', 'Mai'), ('797', 'Avery'), ('798', 'Latonya'), ('799', 'Liana'), ('800', 'Maira'), ('801', 'Moriah'), ('802', 'Alex'), ('803', 'Leandra'), ('804', 'Makayla'), ('805', 'Marla'), ('806', 'Kaylie'), ('807', 'Kaela'), ('808', 'Lana'), ('809', 'Tanesha'), ('810', 'Delia'), ('811', 'Micaela'), ('812', 'Juana'), ('813', 'Leeann'), ('814', 'Elaina'), ('815', 'Valencia'), ('816', 'Alyse'), ('817', 'Elsa'), ('818', 'Ayla'), ('819', 'Charmaine'), ('820', 'Lynette'), ('821', 'Mariela'), ('822', 'Symone'), ('823', 'Kyle'), ('824', 'Rikki'), ('825', 'Gillian'), ('826', 'Laquita'), ('827', 'Riley'), ('828', 'Sonja'), ('829', 'Alessandra'), ('830', 'Billie'), ('831', 'Christiana'), ('832', 'Martina'), ('833', 'Melina'), ('834', 'Tyesha'), ('835', 'Jamila'), ('836', 'Janna'), ('837', 'Nikole'), ('838', 'Teri'), ('839', 'Bridgett'), ('840', 'Deidra'), ('841', 'Krysten'), ('842', 'Tameka'), ('843', 'Brittnie'), ('844', 'Portia'), ('845', 'Destinee'), ('846', 'Kaycee'), ('847', 'Cecelia'), ('848', 'Geneva'), ('849', 'Ivana'), ('850', 'Kalyn'), ('851', 'Aileen'), ('852', 'Cora'), ('853', 'Doris'), ('854', 'Fabiola'), ('855', 'Heaven'), ('856', 'Shea'), ('857', 'Susanna'), ('858', 'Cody'), ('859', 'Ivette'), ('860', 'Kia'), ('861', 'Baby'), ('862', 'Becky'), ('863', 'Gianna'), ('864', 'Nia'), ('865', 'Cherie'), ('866', 'Janell'), ('867', 'Lucero'), ('868', 'Brook'), ('869', 'Ella'), ('870', 'Andria'), ('871', 'Jodie'), ('872', 'Phoebe'), ('873', 'Alexander'), ('874', 'Jaimee'), ('875', 'Magen'), ('876', 'Mandi'), ('877', 'Corrine'), ('878', 'Kati'), ('879', 'Kenisha'), ('880', 'Samatha'), ('881', 'Sarai'), ('882', 'Dara'), ('883', 'Shelbi'), ('884', 'Deana'), ('885', 'Demetria'), ('886', 'Danika'), ('887', 'Marjorie'), ('888', 'Shakira'), ('889', 'Karly'), ('890', 'Liza'), ('891', 'Tera'), ('892', 'Isabella'), ('893', 'Lashonda'), ('894', 'Chaya'), ('895', 'Holli'), ('896', 'Lakeshia'), ('897', 'Lissette'), ('898', 'Richelle'), ('899', 'Roxanna'), ('900', 'Alysa'), ('901', 'Marcia'), ('902', 'Maryann'), ('903', 'Dulce'), ('904', 'Gabriel'), ('905', 'Joana'), ('906', 'Katheryn'), ('907', 'Micah'), ('908', 'Catrina'), ('909', 'Jessenia'), ('910', 'Lourdes'), ('911', 'Brooklyn'), ('912', 'Dominque'), ('913', 'Nataly'), ('914', 'Cathy'), ('915', 'Chastity'), ('916', 'Jessi'), ('917', 'Trina'), ('918', 'Fallon'), ('919', 'Magdalena'), ('920', 'Shanell'), ('921', 'Sherri'), ('922', 'Sidney'), ('923', 'Anjelica'), ('924', 'Carlie'), ('925', 'Chanelle'), ('926', 'Karli'), ('927', 'Tracie'), ('928', 'Eunice'), ('929', 'Imani'), ('930', 'Jesica'), ('931', 'Kalie'), ('932', 'Krystin'), ('933', 'Mari'), ('934', 'Loretta'), ('935', 'Marian'), ('936', 'Alannah'), ('937', 'Blake'), ('938', 'Bree'), ('939', 'Roberta'), ('940', 'Aja'), ('941', 'Fiona'), ('942', 'Kallie'), ('943', 'Shari'), ('944', 'Lisette'), ('945', 'Vicky'), ('946', 'Danyelle'), ('947', 'Geraldine'), ('948', 'Helena'), ('949', 'Candy'), ('950', 'Edna'), ('951', 'Kanesha'), ('952', 'Lia'), ('953', 'Ava'), ('954', 'Laken'), ('955', 'Lee'), ('956', 'Catalina'), ('957', 'Kacy'), ('958', 'Kristan'), ('959', 'Cari'), ('960', 'Haleigh'), ('961', 'Jeanne'), ('962', 'Jesenia'), ('963', 'Mariel'), ('964', 'Marsha'), ('965', 'Janel'), ('966', 'Dena'), ('967', 'Lizeth'), ('968', 'Luisa'), ('969', 'Marlena'), ('970', 'Cory'), ('971', 'Deidre'), ('972', 'Eryn'), ('973', 'Annmarie'), ('974', 'Danae'), ('975', 'Dora'), ('976', 'Georgina'), ('977', 'Graciela'), ('978', 'Shamika'), ('979', 'Tosha'), ('980', 'Marianne'), ('981', 'Wanda'), ('982', 'Christopher'), ('983', 'Elyssa'), ('984', 'Emilia'), ('985', 'Kimber'), ('986', 'Jody'), ('987', 'Lynsey'), ('988', 'Renae'), ('989', 'Shameka'), ('990', 'Deirdre'), ('991', 'Shantell'), ('992', 'Cherish'), ('993', 'Linsey'), ('994', 'Hali'), ('995', 'Tarah'), ('996', 'Annemarie'), ('997', 'Asha'), ('998', 'Jada'), ('999', 'Leila'), ('1000', 'Peggy')]\n"
       ]
      }
     ],
     "prompt_number": 50
    },
    {
     "cell_type": "code",
     "collapsed": false,
     "input": [
      "a=('1','5')"
     ],
     "language": "python",
     "metadata": {},
     "outputs": [],
     "prompt_number": 48
    },
    {
     "cell_type": "code",
     "collapsed": false,
     "input": [],
     "language": "python",
     "metadata": {},
     "outputs": [],
     "prompt_number": 43
    },
    {
     "cell_type": "code",
     "collapsed": false,
     "input": [],
     "language": "python",
     "metadata": {},
     "outputs": []
    }
   ],
   "metadata": {}
  }
 ]
}