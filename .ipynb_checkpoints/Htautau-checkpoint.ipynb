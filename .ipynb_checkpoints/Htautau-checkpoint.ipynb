{
 "metadata": {
  "name": ""
 },
 "nbformat": 3,
 "nbformat_minor": 0,
 "worksheets": [
  {
   "cells": [
    {
     "cell_type": "code",
     "collapsed": false,
     "input": [
      "%pylab inline\n",
      "from csv import *\n",
      "import scipy.stats\n",
      "training=np.loadtxt('/Users/Mia/Documents/HtautauMVA/training.csv', delimiter=',', skiprows=1,\\\n",
      "                    converters={32: lambda x:int(x=='s'.encode('utf-8')) })"
     ],
     "language": "python",
     "metadata": {},
     "outputs": [
      {
       "output_type": "stream",
       "stream": "stdout",
       "text": [
        "Populating the interactive namespace from numpy and matplotlib\n"
       ]
      },
      {
       "output_type": "stream",
       "stream": "stderr",
       "text": [
        "WARNING: pylab import has clobbered these variables: ['__version__']\n",
        "`%pylab --no-import-all` prevents importing * from pylab and numpy\n"
       ]
      }
     ],
     "prompt_number": 38
    },
    {
     "cell_type": "code",
     "collapsed": false,
     "input": [
      "#training_2D = training.view(np.float64).reshape(training.shape+(-1,))\n",
      "#training_2D_signal = training_signal.view(np.float64).reshape(training_signal.shape+(-1,))\n",
      "#training_2D_background = training_background.view(np.float64).reshape(training_background.shape+(-1,))\n",
      "correlation = scipy.stats.spearmanr(training)\n",
      "#correlation_signal = scipy.stats.spearmanr(training_2D_signal)\n",
      "#correlation_background = scipy.stats.spearmanr(training_2D_background)\n"
     ],
     "language": "python",
     "metadata": {},
     "outputs": [],
     "prompt_number": 36
    },
    {
     "cell_type": "code",
     "collapsed": false,
     "input": [
      "from pylab import pcolor, show, colorbar, xticks, yticks\n",
      "pcolor(correlation[0])\n",
      "colorbar()\n",
      "print correlation[0]\n",
      "savefig('correlation_signal.pdf')"
     ],
     "language": "python",
     "metadata": {},
     "outputs": [
      {
       "output_type": "stream",
       "stream": "stdout",
       "text": [
        "[[  1.00000000e+00   8.83990636e-04  -5.43509530e-03 ...,   1.56920703e-03\n",
        "   -3.90508629e-03   2.24808197e-03]\n",
        " [  8.83990636e-04   1.00000000e+00  -2.20738642e-01 ...,   1.60457969e-01\n",
        "   -2.60743825e-01   3.18364882e-01]\n",
        " [ -5.43509530e-03  -2.20738642e-01   1.00000000e+00 ...,  -2.99373508e-01\n",
        "    5.04113286e-01  -3.89562688e-01]\n",
        " ..., \n",
        " [  1.56920703e-03   1.60457969e-01  -2.99373508e-01 ...,   1.00000000e+00\n",
        "   -4.99533551e-01   1.83093722e-01]\n",
        " [ -3.90508629e-03  -2.60743825e-01   5.04113286e-01 ...,  -4.99533551e-01\n",
        "    1.00000000e+00  -8.24648165e-01]\n",
        " [  2.24808197e-03   3.18364882e-01  -3.89562688e-01 ...,   1.83093722e-01\n",
        "   -8.24648165e-01   1.00000000e+00]]\n"
       ]
      },
      {
       "metadata": {},
       "output_type": "display_data",
       "png": "[encoded data removed]",
       "text": [
        "<matplotlib.figure.Figure at 0x109768e10>"
       ]
      }
     ],
     "prompt_number": 37
    },
    {
     "cell_type": "code",
     "collapsed": false,
     "input": [
      "print training_2D.shape"
     ],
     "language": "python",
     "metadata": {},
     "outputs": [
      {
       "output_type": "stream",
       "stream": "stdout",
       "text": [
        "(249981, 33)\n"
       ]
      }
     ],
     "prompt_number": 23
    },
    {
     "cell_type": "code",
     "collapsed": false,
     "input": [
      "hist(training['Weight'])"
     ],
     "language": "python",
     "metadata": {},
     "outputs": [
      {
       "metadata": {},
       "output_type": "pyout",
       "prompt_number": 30,
       "text": [
        "(array([ 119597.,   16805.,   48539.,   17968.,    1701.,   15013.,\n",
        "         19719.,    7014.,    3160.,     465.]),\n",
        " array([  1.50187016e-03,   7.83605938e-01,   1.56571001e+00,\n",
        "         2.34781407e+00,   3.12991814e+00,   3.91202221e+00,\n",
        "         4.69412628e+00,   5.47623034e+00,   6.25833441e+00,\n",
        "         7.04043848e+00,   7.82254255e+00]),\n",
        " <a list of 10 Patch objects>)"
       ]
      },
      {
       "metadata": {},
       "output_type": "display_data",
       "png": "[encoded data removed]",
       "text": [
        "<matplotlib.figure.Figure at 0x108fa2990>"
       ]
      }
     ],
     "prompt_number": 30
    },
    {
     "cell_type": "code",
     "collapsed": false,
     "input": [
      "import numpy as np\n",
      "from sklearn.ensemble import GradientBoostingClassifier as GBC\n",
      "import math\n",
      " \n",
      "# Load training data\n",
      "print 'Loading training data.'\n",
      "data_train = np.loadtxt( '/Users/Mia/Documents/HtautauMVA/training.csv', delimiter=',', skiprows=1, converters={32: lambda x:int(x=='s'.encode('utf-8')) } )\n",
      " \n",
      "# Pick a random seed for reproducible results. Choose wisely!\n",
      "np.random.seed(42)\n",
      "# Random number for training/validation splitting\n",
      "r =np.random.rand(data_train.shape[0])\n",
      " \n",
      "# Put Y(truth), X(data), W(weight), and I(index) into their own arrays\n",
      "print 'Assigning data to numpy arrays.'\n",
      "# First 90% are training\n",
      "Y_train = data_train[:,32][r<0.9]\n",
      "X_train = data_train[:,1:31][r<0.9]\n",
      "W_train = data_train[:,31][r<0.9]\n",
      "# Lirst 10% are validation\n",
      "Y_valid = data_train[:,32][r>=0.9]\n",
      "X_valid = data_train[:,1:31][r>=0.9]\n",
      "W_valid = data_train[:,31][r>=0.9]\n",
      " \n",
      "# Train the GradientBoostingClassifier using our good features\n",
      "print 'Training classifier (this may take some time!)'\n",
      "gbc = GBC(n_estimators=50, max_depth=5,min_samples_leaf=200,max_features=10,verbose=1)\n",
      "gbc.fit(X_train,Y_train) \n",
      " \n",
      "# Get the probaility output from the trained method, using the 10% for testing\n",
      "prob_predict_train = gbc.predict_proba(X_train)[:,1]\n",
      "prob_predict_valid = gbc.predict_proba(X_valid)[:,1]\n",
      " \n",
      "# Experience shows me that choosing the top 15% as signal gives a good AMS score.\n",
      "# This can be optimized though!\n",
      "pcut = np.percentile(prob_predict_train,85)\n",
      " \n",
      "# This are the final signal and background predictions\n",
      "Yhat_train = prob_predict_train > pcut \n",
      "Yhat_valid = prob_predict_valid > pcut\n",
      " \n",
      "# To calculate the AMS data, first get the true positives and true negatives\n",
      "# Scale the weights according to the r cutoff.\n",
      "TruePositive_train = W_train*(Y_train==1.0)*(1.0/0.9)\n",
      "TrueNegative_train = W_train*(Y_train==0.0)*(1.0/0.9)\n",
      "TruePositive_valid = W_valid*(Y_valid==1.0)*(1.0/0.1)\n",
      "TrueNegative_valid = W_valid*(Y_valid==0.0)*(1.0/0.1)\n",
      " \n",
      "# s and b for the training \n",
      "s_train = sum ( TruePositive_train*(Yhat_train==1.0) )\n",
      "b_train = sum ( TrueNegative_train*(Yhat_train==1.0) )\n",
      "s_valid = sum ( TruePositive_valid*(Yhat_valid==1.0) )\n",
      "b_valid = sum ( TrueNegative_valid*(Yhat_valid==1.0) )\n",
      " \n",
      "# Now calculate the AMS scores\n",
      "print 'Calculating AMS score for a probability cutoff pcut=',pcut\n",
      "def AMSScore(s,b): return  math.sqrt (2.*( (s + b + 10.)*math.log(1.+s/(b+10.))-s))\n",
      "print '   - AMS based on 90% training   sample:',AMSScore(s_train,b_train)\n",
      "print '   - AMS based on 10% validation sample:',AMSScore(s_valid,b_valid)\n",
      " \n",
      "# Now we load the testing data, storing the data (X) and index (I)\n",
      "print 'Loading testing data'\n",
      "data_test = np.loadtxt( '/Users/Mia/Documents/HtautauMVA/test.csv', delimiter=',', skiprows=1 )\n",
      "X_test = data_test[:,1:31]\n",
      "I_test = list(data_test[:,0])\n",
      " \n",
      "# Get a vector of the probability predictions which will be used for the ranking\n",
      "print 'Building predictions'\n",
      "Predictions_test = gbc.predict_proba(X_test)[:,1]\n",
      "# Assign labels based the best pcut\n",
      "Label_test = list(Predictions_test>pcut)\n",
      "Predictions_test =list(Predictions_test)\n",
      " \n",
      "# Now we get the CSV data, using the probability prediction in place of the ranking\n",
      "print 'Organizing the prediction results'\n",
      "resultlist = []\n",
      "for x in range(len(I_test)):\n",
      "    resultlist.append([int(I_test[x]), Predictions_test[x], 's'*(Label_test[x]==1.0)+'b'*(Label_test[x]==0.0)])\n",
      " \n",
      "# Sort the result list by the probability prediction\n",
      "resultlist = sorted(resultlist, key=lambda a_entry: a_entry[1]) \n",
      " \n",
      "# Loop over result list and replace probability prediction with integer ranking\n",
      "for y in range(len(resultlist)):\n",
      "    resultlist[y][1]=y+1\n",
      " \n",
      "# Re-sort the result list according to the index\n",
      "resultlist = sorted(resultlist, key=lambda a_entry: a_entry[0])\n",
      " \n",
      "# Write the result list data to a csv file\n",
      "print 'Writing a final csv file Kaggle_higgs_prediction_output.csv'\n",
      "fcsv = open('Kaggle_higgs_prediction_output.csv','w')\n",
      "fcsv.write('EventId,RankOrder,Class\\n')\n",
      "for line in resultlist:\n",
      "    theline = str(line[0])+','+str(line[1])+','+line[2]+'\\n'\n",
      "    fcsv.write(theline) \n",
      "fcsv.close()"
     ],
     "language": "python",
     "metadata": {},
     "outputs": [
      {
       "output_type": "stream",
       "stream": "stdout",
       "text": [
        "Loading training data.\n",
        "Assigning data to numpy arrays."
       ]
      },
      {
       "output_type": "stream",
       "stream": "stdout",
       "text": [
        "\n",
        "Training classifier (this may take some time!)"
       ]
      },
      {
       "output_type": "stream",
       "stream": "stdout",
       "text": [
        "\n",
        "      Iter       Train Loss   Remaining Time "
       ]
      },
      {
       "output_type": "stream",
       "stream": "stdout",
       "text": [
        "\n",
        "         1           1.2134            3.16m"
       ]
      },
      {
       "output_type": "stream",
       "stream": "stdout",
       "text": [
        "\n",
        "         2           1.1560            3.04m"
       ]
      },
      {
       "output_type": "stream",
       "stream": "stdout",
       "text": [
        "\n",
        "         3           1.1088            3.17m"
       ]
      },
      {
       "output_type": "stream",
       "stream": "stdout",
       "text": [
        "\n",
        "         4           1.0683            3.10m"
       ]
      },
      {
       "output_type": "stream",
       "stream": "stdout",
       "text": [
        "\n",
        "         5           1.0326            3.06m"
       ]
      },
      {
       "output_type": "stream",
       "stream": "stdout",
       "text": [
        "\n",
        "         6           1.0017            2.94m"
       ]
      },
      {
       "output_type": "stream",
       "stream": "stdout",
       "text": [
        "\n",
        "         7           0.9771            2.83m"
       ]
      },
      {
       "output_type": "stream",
       "stream": "stdout",
       "text": [
        "\n",
        "         8           0.9549            2.72m"
       ]
      },
      {
       "output_type": "stream",
       "stream": "stdout",
       "text": [
        "\n",
        "         9           0.9364            2.63m"
       ]
      },
      {
       "output_type": "stream",
       "stream": "stdout",
       "text": [
        "\n",
        "        10           0.9179            2.58m"
       ]
      },
      {
       "output_type": "stream",
       "stream": "stdout",
       "text": [
        "\n",
        "        20           0.8192            1.90m"
       ]
      },
      {
       "output_type": "stream",
       "stream": "stdout",
       "text": [
        "\n",
        "        30           0.7790            1.25m"
       ]
      },
      {
       "output_type": "stream",
       "stream": "stdout",
       "text": [
        "\n",
        "        40           0.7569           37.27s"
       ]
      },
      {
       "output_type": "stream",
       "stream": "stdout",
       "text": [
        "\n",
        "        50           0.7419            0.00s"
       ]
      },
      {
       "output_type": "stream",
       "stream": "stdout",
       "text": [
        "\n",
        "Calculating AMS score for a probability cutoff pcut="
       ]
      },
      {
       "ename": "IOError",
       "evalue": "[Errno 2] No such file or directory: 'test.csv'",
       "output_type": "pyerr",
       "traceback": [
        "\u001b[0;31m---------------------------------------------------------------------------\u001b[0m\n\u001b[0;31mIOError\u001b[0m                                   Traceback (most recent call last)",
        "\u001b[0;32m<ipython-input-39-bc3dc3a15f7d>\u001b[0m in \u001b[0;36m<module>\u001b[0;34m()\u001b[0m\n\u001b[1;32m     61\u001b[0m \u001b[0;31m# Now we load the testing data, storing the data (X) and index (I)\u001b[0m\u001b[0;34m\u001b[0m\u001b[0;34m\u001b[0m\u001b[0m\n\u001b[1;32m     62\u001b[0m \u001b[0;32mprint\u001b[0m \u001b[0;34m'Loading testing data'\u001b[0m\u001b[0;34m\u001b[0m\u001b[0m\n\u001b[0;32m---> 63\u001b[0;31m \u001b[0mdata_test\u001b[0m \u001b[0;34m=\u001b[0m \u001b[0mnp\u001b[0m\u001b[0;34m.\u001b[0m\u001b[0mloadtxt\u001b[0m\u001b[0;34m(\u001b[0m \u001b[0;34m'test.csv'\u001b[0m\u001b[0;34m,\u001b[0m \u001b[0mdelimiter\u001b[0m\u001b[0;34m=\u001b[0m\u001b[0;34m','\u001b[0m\u001b[0;34m,\u001b[0m \u001b[0mskiprows\u001b[0m\u001b[0;34m=\u001b[0m\u001b[0;36m1\u001b[0m \u001b[0;34m)\u001b[0m\u001b[0;34m\u001b[0m\u001b[0m\n\u001b[0m\u001b[1;32m     64\u001b[0m \u001b[0mX_test\u001b[0m \u001b[0;34m=\u001b[0m \u001b[0mdata_test\u001b[0m\u001b[0;34m[\u001b[0m\u001b[0;34m:\u001b[0m\u001b[0;34m,\u001b[0m\u001b[0;36m1\u001b[0m\u001b[0;34m:\u001b[0m\u001b[0;36m31\u001b[0m\u001b[0;34m]\u001b[0m\u001b[0;34m\u001b[0m\u001b[0m\n\u001b[1;32m     65\u001b[0m \u001b[0mI_test\u001b[0m \u001b[0;34m=\u001b[0m \u001b[0mlist\u001b[0m\u001b[0;34m(\u001b[0m\u001b[0mdata_test\u001b[0m\u001b[0;34m[\u001b[0m\u001b[0;34m:\u001b[0m\u001b[0;34m,\u001b[0m\u001b[0;36m0\u001b[0m\u001b[0;34m]\u001b[0m\u001b[0;34m)\u001b[0m\u001b[0;34m\u001b[0m\u001b[0m\n",
        "\u001b[0;32m//anaconda/lib/python2.7/site-packages/numpy/lib/npyio.pyc\u001b[0m in \u001b[0;36mloadtxt\u001b[0;34m(fname, dtype, comments, delimiter, converters, skiprows, usecols, unpack, ndmin)\u001b[0m\n\u001b[1;32m    727\u001b[0m                 \u001b[0mfh\u001b[0m \u001b[0;34m=\u001b[0m \u001b[0miter\u001b[0m\u001b[0;34m(\u001b[0m\u001b[0mbz2\u001b[0m\u001b[0;34m.\u001b[0m\u001b[0mBZ2File\u001b[0m\u001b[0;34m(\u001b[0m\u001b[0mfname\u001b[0m\u001b[0;34m)\u001b[0m\u001b[0;34m)\u001b[0m\u001b[0;34m\u001b[0m\u001b[0m\n\u001b[1;32m    728\u001b[0m             \u001b[0;32melse\u001b[0m\u001b[0;34m:\u001b[0m\u001b[0;34m\u001b[0m\u001b[0m\n\u001b[0;32m--> 729\u001b[0;31m                 \u001b[0mfh\u001b[0m \u001b[0;34m=\u001b[0m \u001b[0miter\u001b[0m\u001b[0;34m(\u001b[0m\u001b[0mopen\u001b[0m\u001b[0;34m(\u001b[0m\u001b[0mfname\u001b[0m\u001b[0;34m,\u001b[0m \u001b[0;34m'U'\u001b[0m\u001b[0;34m)\u001b[0m\u001b[0;34m)\u001b[0m\u001b[0;34m\u001b[0m\u001b[0m\n\u001b[0m\u001b[1;32m    730\u001b[0m         \u001b[0;32melse\u001b[0m\u001b[0;34m:\u001b[0m\u001b[0;34m\u001b[0m\u001b[0m\n\u001b[1;32m    731\u001b[0m             \u001b[0mfh\u001b[0m \u001b[0;34m=\u001b[0m \u001b[0miter\u001b[0m\u001b[0;34m(\u001b[0m\u001b[0mfname\u001b[0m\u001b[0;34m)\u001b[0m\u001b[0;34m\u001b[0m\u001b[0m\n",
        "\u001b[0;31mIOError\u001b[0m: [Errno 2] No such file or directory: 'test.csv'"
       ]
      },
      {
       "output_type": "stream",
       "stream": "stdout",
       "text": [
        " 0.784386642779\n",
        "   - AMS based on 90% training   sample: 3.46609015271\n",
        "   - AMS based on 10% validation sample: 3.47899025803\n",
        "Loading testing data\n"
       ]
      }
     ],
     "prompt_number": 39
    },
    {
     "cell_type": "code",
     "collapsed": false,
     "input": [
      "from matplotlib import pyplot as plt\n",
      " \n",
      "Classifier_training_S = gbc.predict_proba(X_train[Y_train>0.5])[:,1].ravel()\n",
      "Classifier_training_B = gbc.predict_proba(X_train[Y_train<0.5])[:,1].ravel()\n",
      "Classifier_testing_A = gbc.predict_proba(X_test)[:,1].ravel()\n",
      "  \n",
      "c_max = max([Classifier_training_S.max(),Classifier_training_B.max(),Classifier_testing_A.max()])\n",
      "c_min = min([Classifier_training_S.min(),Classifier_training_B.min(),Classifier_testing_A.min()])\n",
      "  \n",
      "# Get histograms of the classifiers\n",
      "Histo_training_S = np.histogram(Classifier_training_S,bins=50,range=(c_min,c_max))\n",
      "Histo_training_B = np.histogram(Classifier_training_B,bins=50,range=(c_min,c_max))\n",
      "Histo_testing_A = np.histogram(Classifier_testing_A,bins=50,range=(c_min,c_max))\n",
      "  \n",
      "# Lets get the min/max of the Histograms\n",
      "AllHistos= [Histo_training_S,Histo_training_B]\n",
      "h_max = max([histo[0].max() for histo in AllHistos])*1.2\n",
      "# h_min = max([histo[0].min() for histo in AllHistos])\n",
      "h_min = 1.0\n",
      "  \n",
      "# Get the histogram properties (binning, widths, centers)\n",
      "bin_edges = Histo_training_S[1]\n",
      "bin_centers = ( bin_edges[:-1] + bin_edges[1:]  ) /2.\n",
      "bin_widths = (bin_edges[1:] - bin_edges[:-1])\n",
      "  \n",
      "# To make error bar plots for the data, take the Poisson uncertainty sqrt(N)\n",
      "ErrorBar_testing_A = np.sqrt(Histo_testing_A[0])\n",
      "# ErrorBar_testing_B = np.sqrt(Histo_testing_B[0])\n",
      "  \n",
      "# Draw objects\n",
      "ax1 = plt.subplot(111)\n",
      "  \n",
      "# Draw solid histograms for the training data\n",
      "ax1.bar(bin_centers-bin_widths/2.,Histo_training_B[0],facecolor='red',linewidth=0,width=bin_widths,label='B (Train)',alpha=0.5)\n",
      "ax1.bar(bin_centers-bin_widths/2.,Histo_training_S[0],bottom=Histo_training_B[0],facecolor='blue',linewidth=0,width=bin_widths,label='S (Train)',alpha=0.5)\n",
      " \n",
      "ff = (1.0*(sum(Histo_training_S[0])+sum(Histo_training_B[0])))/(1.0*sum(Histo_testing_A[0]))\n",
      " \n",
      "# # Draw error-bar histograms for the testing data\n",
      "ax1.errorbar(bin_centers, ff*Histo_testing_A[0], yerr=ff*ErrorBar_testing_A, xerr=None, ecolor='black',c='black',fmt='.',label='Test (reweighted)')\n",
      "# ax1.errorbar(bin_centers, Histo_testing_B[0], yerr=ErrorBar_testing_B, xerr=None, ecolor='red',c='red',fmt='o',label='B (Test)')\n",
      "  \n",
      "# Make a colorful backdrop to show the clasification regions in red and blue\n",
      "ax1.axvspan(pcut, c_max, color='blue',alpha=0.08)\n",
      "ax1.axvspan(c_min,pcut, color='red',alpha=0.08)\n",
      "  \n",
      "# Adjust the axis boundaries (just cosmetic)\n",
      "ax1.axis([c_min, c_max, h_min, h_max])\n",
      "  \n",
      "# Make labels and title\n",
      "plt.title(\"Higgs Kaggle Signal-Background Separation\")\n",
      "plt.xlabel(\"Probability Output (Gradient Boosting)\")\n",
      "plt.ylabel(\"Counts/Bin\")\n",
      " \n",
      "# Make legend with smalll font\n",
      "legend = ax1.legend(loc='upper center', shadow=True,ncol=2)\n",
      "for alabel in legend.get_texts():\n",
      "            alabel.set_fontsize('small')\n",
      "  \n",
      "# Save the result to png\n",
      "plt.savefig(\"Sklearn_gbc.png\")"
     ],
     "language": "python",
     "metadata": {},
     "outputs": []
    }
   ],
   "metadata": {}
  }
 ]
}