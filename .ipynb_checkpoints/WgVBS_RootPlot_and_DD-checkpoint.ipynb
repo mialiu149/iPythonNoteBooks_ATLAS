{
 "metadata": {
  "name": "",
  "signature": "sha256:841130a52b6baf74d1bedcd50afac274160a408be95006f085945cab26e68fb3"
 },
 "nbformat": 3,
 "nbformat_minor": 0,
 "worksheets": [
  {
   "cells": [
    {
     "cell_type": "code",
     "collapsed": false,
     "input": [
      "%pylab inline\n",
      "import numpy as np\n",
      "import rootnotes\n",
      "import ROOT \n",
      "import rootpy\n",
      "rootpy.log.basic_config_colorized()\n",
      "from rootpy.plotting import Hist, HistStack, Legend, Canvas\n",
      "from rootpy.plotting.style import get_style, set_style\n",
      "from rootpy.plotting.utils import draw, get_limits\n",
      "from rootpy.plotting.views import NormalizeView\n",
      "#from rootpy.plotting import get_limits\n",
      "#from rootpy.interactive import wait\n",
      "from rootpy.tree import Tree\n",
      "from rootpy.tree import Cut\n",
      "from rootpy.io import root_open\n",
      "from ROOT import TCanvas\n",
      "from rootpy.tree.categories import Categories\n",
      "import rootpy.plotting.root2matplotlib as rplt\n",
      "from uncertainties import *\n",
      "from IPython.core.display import Image\n",
      "#Hist.AddDirectory(False) \n",
      "colors=['#00909E','#ED0026','#FA9D00','#F68370','#FEABB9','#91278F']\n",
      "def makeDivCan():\n",
      "    \"\"\"returns a divided canvas for ratios\"\"\"\n",
      "    Rcanv = ROOT.TCanvas(\"Rcanv\",\"Rcanv\",1500,1200)\n",
      "    Rcanv.cd()\n",
      "    pad1 = ROOT.TPad(\"pad1\",\"pad1\",0,0.3,1,1)\n",
      "    pad1.SetNumber(1)\n",
      "    pad2 = ROOT.TPad(\"pad2\",\"pad2\",0,0,1,0.3)\n",
      "    pad2.SetNumber(2)\n",
      "    pad1.Draw()\n",
      "    pad2.Draw()\n",
      "    Rcanv.cd()\n",
      "    #ROOT.SetOwnership(Rcanv,0)\n",
      "    ROOT.SetOwnership(pad1,0)\n",
      "    ROOT.SetOwnership(pad2,0)\n",
      "    return Rcanv\n",
      "def save_and_show(c):\n",
      "    c.SaveAs(h.save_name)\n",
      "    r = ipy_show_canv(c)\n",
      "    c.Close() #Need to close to prevent ROOT crash\n",
      "    return r\n",
      "#def plot_ratio():\n",
      "def makeRatio(hist1,hist2,ymax=False,ymin=False,norm=False,xtitle=''):\n",
      "    \"\"\"returns the ratio plot hist2/hist1\n",
      "    if one of the histograms is a stack put it in as argument 2!\"\"\"\n",
      "    if norm:\n",
      "        print 'scaling!'\n",
      "        try:\n",
      "            print 'scale 1: ',1/hist1.Integral()\n",
      "            print 'scale 2: ',1/hist2.Integral()\n",
      "            hist1.Scale(1/hist1.Integral())\n",
      "            hist2.Scale(1/hist2.Integral())\n",
      "        except(ZeroDivisionError):\n",
      "            pass\n",
      "    retH = hist1.Clone()\n",
      "    try:\n",
      "        retH.Divide(hist2)\n",
      "    except(TypeError):\n",
      "        #this is the error you get if hist2 is a stack\n",
      "        hList = hist2.GetHists()\n",
      "        sumHist = hist1.Clone(\"sumHist\")\n",
      "        sumHist.Reset()\n",
      "        for h in hList:\n",
      "            sumHist.Add(h)\n",
      "        retH.Divide(sumHist)\n",
      "    except(AttributeError):\n",
      "        #this is the error you get if hist1 is a stack\n",
      "        print \"Did you use a stack as argument 1? please use stack as argument 2!\"\n",
      "        raise AttributeError\n",
      "    if ymax or ymin:\n",
      "        retH.GetYaxis().SetRangeUser(ymin,ymax)\n",
      "        retH.SetLineColor(hist2.GetLineColor())\n",
      "    retH.GetYaxis().SetTitle(\"W#gamma QCD unfiltered/filtered\")\n",
      "    retH.GetXaxis().SetTitle(xtitle)\n",
      "    ROOT.SetOwnership(retH,0)\n",
      "    return retH\n",
      "#mc=['wenugvbs_sherpa.root','wenug_alpgen.root','wenu_sherpa.root','zee_alpgen.root','dp.root','ttbar_mcnlo.root']\n",
      "#keys=['data','wenugvbs','wenug','wenu','zee','dp','ttbar']"
     ],
     "language": "python",
     "metadata": {},
     "outputs": [
      {
       "output_type": "stream",
       "stream": "stdout",
       "text": [
        "Populating the interactive namespace from numpy and matplotlib\n"
       ]
      },
      {
       "output_type": "stream",
       "stream": "stderr",
       "text": [
        "WARNING: pylab import has clobbered these variables: ['legend', 'sample', 'f', 'style', 'colors', 'draw', 'var']\n",
        "`%matplotlib` prevents importing * from pylab and numpy\n"
       ]
      }
     ],
     "prompt_number": 5
    },
    {
     "cell_type": "code",
     "collapsed": false,
     "input": [
      "#### Define signal region and control regions\n",
      "#cut='&&njets==2&&Mjj>500&&abs(dYjj)>2.4)'\n",
      "cut = '&&njets>=2)'\n",
      "#cut='&&njets==2&&Mjj>500)'\n",
      "#cut='&&njets>=2&&Mjj>600&&abs(dYjj)>2.0&&bveto70==0&&pt_balance<0.1)'\n",
      "sig ='&&ph_istight&&MET>35&&Mt>40&&ph_iso_cone40<4&&(lep_iso/lep_Pt)<0.1&&dRlg>0.4&&ph_Pt>15&&lep_Pt>25'\n",
      "signal_region='weight*(1'+sig+cut\n",
      "signal_region_mjjfiltered = 'mc_event_weight*weight*(1'+sig+cut\n",
      "signal_region_fsrveto='weight*(fsr_veto==0'+sig+cut\n",
      "signal_region_bveto='weight*(bvetotruth==0'+sig+cut\n",
      "signal_region_btag='weight*(bvetotruth>0'+sig+cut\n",
      "#ejet_cr_B = 'weight*(ph_region==0&&MET>35&&Mt>40&&dRlg>0.4'+cut\n",
      "ejet_cr_B = 'weight*(MET>35&&Mt>40&&dRlg>0.4&&ph_istight&&ph_iso_cone40<4&&(lep_iso/lep_Pt)>0.1'+cut\n",
      "gjet_cr_B = 'weight*(MET>35&&Mt>40&&(lep_iso/lep_Pt)<0.1&&dRlg>0.4&&ph_istight&&ph_iso_cone40>6'+cut\n",
      "gjet_cr_C = 'weight*(MET>35&&Mt>40&&(lep_iso/lep_Pt)<0.1&&dRlg>0.4&&!ph_istight&&ph_iso_cone40<4'+cut\n",
      "gjet_cr_D = 'weight*(MET>35&&Mt>40&&(lep_iso/lep_Pt)<0.1&&dRlg>0.4&&!ph_istight&&ph_iso_cone40>6'+cut\n",
      "\n",
      "#N_dp_DD_Scale=0.37\n",
      "#wenug_scale=1.61\n",
      "#wjets_scale=1.07\n",
      "N_dp_DD_Scale = 1/0.544#/1.46\n",
      "wenug_scale = 1.\n",
      "#N_wenu_DD_Scale = 1/1.968#/1.156\n",
      "N_wenu_DD_Scale = 1/3.5\n",
      "#/1.156\n",
      "N_wenu_Scale = 0.75\n",
      "N_wenu_mjj_Scale = 1/(1.715635940664000e+16/4999285)\n",
      "N_zee_mjj_Scale = 1/(9.0339432658830e+14/5006078)\n",
      "use_wenumc = False\n",
      "#N_dp_DD_Scale=0.213\n",
      "#wenug_scale=1.06\n",
      "#wjets_scale=1.06\n",
      "#### make plots for a list of variables\n",
      "#### lists of variables to plot\n",
      "variables=['min(dYj0_lg,dYj1_lg)','dYj0_lg','dYj1_lg',\n",
      "           'ph_E','ph_Pt','ph_Phi','jet_leading_Eta',\n",
      "           'lep_E','lep_Pt','lep_Phi','jet_subleading_Eta',\n",
      "           'MET','Mt','Mt_Wg','njets','Mlg','Mjj','Ptjj','dYjj','pt_balance',\n",
      "           'abs(lg_Centrality)','abs(l_Centrality)',\n",
      "           'jet_leading_Pt','jet_subleading_Pt','dRgj0','dRgj1']\n",
      "xtitles={'min(dYj0_lg,dYj1_lg)':'min(dYj0_lg,dYj1_lg)',\n",
      "         'dYj0_lg':'dYj0_lg',\n",
      "         'dYj1_lg':'dYj1_lg',\n",
      "         'ph_E':'ph_E [GeV]',\n",
      "         'ph_Pt':'ph_Pt [GeV]',\n",
      "         'ph_Phi':'ph_Phi',\n",
      "         'ph_Phi':'jet_leading_Eta',\n",
      "         'lep_E':'lep_E [GeV]',\n",
      "         'lep_Pt':'lep_Pt [GeV]',\n",
      "         'lep_Phi':'lep_Phi',\n",
      "         'jet_leading_Eta':'jet_leading_Eta',\n",
      "         'jet_subleading_Eta':'jet_subleading_Eta',\n",
      "         'MET':'MET [GeV]',\n",
      "         'Mt':'Mt [GeV]',\n",
      "         'Mt_Wg':'Mt_Wg [GeV]',\n",
      "         'njets':'njets',\n",
      "         'Mlg':'Mlg [GeV]',\n",
      "         'Mjj':'Mjj[GeV]',\n",
      "         'Ptjj':'Ptjj[GeV]',\n",
      "         'dYjj':'|y(leading jet)- y(subleading jet)|',\n",
      "         'pt_balance':'pt_balance',\n",
      "         'abs(lg_Centrality)':'lg_Centrality',\n",
      "         'abs(l_Centrality)':'l_Centrality',\n",
      "         'jet_leading_Pt':'jet_leading_Pt',\n",
      "         'jet_subleading_Pt':'jet_subleading_Pt',\n",
      "         'dRgj0':'dRgj0',\n",
      "         'dRgj1':'dRgj1'}\n",
      "# for inclusive region\n",
      "#ranges=[np.arange(0., 8., 0.1),np.arange(0., 8., 0.1),np.arange(0., 8., 0.1),np.arange(0., 8., 0.1),np.arange(0., 8., 0.1),np.arange(0., 8., 0.1),\n",
      "#        np.arange(10., 300., 2.5),np.arange(10., 100., 5),np.arange(-3.2, 3.2, 0.2),np.arange(-2.5, 2.5, 0.2),\n",
      "#        np.arange(10., 300., 2.5),np.arange(10., 150., 5),np.arange(-3.2, 3.2, 0.2),np.arange(-2.5, 2.5, 0.2),\n",
      "#        np.arange(0,200,5),np.arange(0,200,5),np.arange(-0.5,6.5,1),np.arange(10., 1000., 15),np.arange(0,1,0.05)]\n",
      "#for njets=2 region\n",
      "ranges={'min(dYj0_lg,dYj1_lg)':np.arange(0., 3., 0.25),\n",
      "        'dYj0_lg':np.arange(0., 8., 1),\n",
      "        'dYj1_lg':np.arange(0., 8., 1),\n",
      "        'ph_E':np.arange(10., 300., 20),\n",
      "        'ph_Pt':np.arange(15., 200., 10),\n",
      "        'ph_Phi':np.arange(-3.2, 3.2, 0.4),\n",
      "        'lep_E':np.arange(35,200,10),\n",
      "        'lep_Pt':np.arange(0,200,10),\n",
      "        'lep_Phi':np.arange(-0.5,6.5,1),\n",
      "        'jet_leading_Eta':np.arange(-5, 5, 1),\n",
      "        'jet_subleading_Eta':np.arange(-5, 5., 1),\n",
      "        'MET':np.arange(35,200,20),\n",
      "        'Mt':np.arange(0,200,25),\n",
      "        'Mt_Wg':np.arange(0,200,25),\n",
      "        'njets':np.arange(-0.5,6.5,1),\n",
      "        'Mlg':np.arange(200.,1000.,50),\n",
      "        'Mjj':np.arange(0,3000,100),\n",
      "        'Ptjj':np.arange(0,1000,100),\n",
      "        'dYjj':np.arange(-9,10,2),\n",
      "        'pt_balance':np.arange(0,0.6,0.05),\n",
      "        'abs(lg_Centrality)':np.arange(0,2,0.2),\n",
      "        'abs(l_Centrality)':np.arange(0,2,0.2),\n",
      "        'jet_leading_Pt':np.arange(0,800,50),\n",
      "        'jet_subleading_Pt':np.arange(0,800,50),\n",
      "        'dRgj0':np.arange(0,10,0.4),\n",
      "        'dRgj1':np.arange(0,10,0.4)\n",
      "        }\n",
      "style = get_style('ATLAS')"
     ],
     "language": "python",
     "metadata": {},
     "outputs": [],
     "prompt_number": 8
    },
    {
     "cell_type": "code",
     "collapsed": false,
     "input": [
      "c=makeDivCan()\n",
      "file_base = '/Users/Mia/Documents/Work/WgZgPhysics/Analysis/WgTemplates/0209_2015/'\n",
      "#mc_samples = ['126739','185868','185680','185304','185470'] #WgQCD, WgQCD filtered,WgVBS notop,WgVBS,QCD+VBS+INT\n",
      "mc_samples = ['126739','185868','185304'] #WgQCD, WgQCD filtered,WgVBS notop,WgVBS,QCD+VBS+INT\n",
      "mjj_scale = 2835488/231161318.55\n",
      "mc_scales = {'126739':1,'185868':mjj_scale,'185680':1,'185304':1,'185470':1}\n",
      "mc_titles = {'126739':'W#gamma QCD',\n",
      "             '185868':'W#gamma QCD Mjj filtered',\n",
      "             '185680':'W#gamma VBS no_top',\n",
      "             '185304':'W#gamma VBS old',\n",
      "             '185470':'W#gamma VBS+QCD+INT'}\n",
      "with style:\n",
      "     for var in variables:\n",
      "         objects = []\n",
      "         legend = Legend(4,leftmargin=0.5, topmargin=0.0, rightmargin=0.05)\n",
      "         legend.SetTextSize(35)\n",
      "         for sample in mc_samples[0:2]:\n",
      "             index=mc_samples.index(sample)\n",
      "             f = root_open(file_base+'WenugammaAnalysis.MC.'+sample+'.alljets.root')\n",
      "             tree = f.CollectionTree\n",
      "             h_Mjj=Hist(ranges[var])\n",
      "             h_Mjj.Sumw2()\n",
      "            #h_Mjj=Hist([1,2,3,4,5])\n",
      "             if '185304' in sample:\n",
      "                tree.Draw(var,selection=signal_region_bveto,hist=h_Mjj)\n",
      "             else:\n",
      "               #tree.Draw('Mjj',selection=signal_region,hist=h_Mjj)\n",
      "                tree.Draw(var,selection=signal_region_mjjfiltered,hist=h_Mjj)\n",
      "             h_Mjj.scale(mc_scales[sample])\n",
      "             #h_Mjj.scale(1/h_Mjj.Integral())\n",
      "             h_Mjj.SetTitle(mc_titles[sample])\n",
      "             h_Mjj.linecolor = colors[index]\n",
      "             h_Mjj.markercolor = colors[index]\n",
      "             objects.append(h_Mjj)\n",
      "             legend.AddEntry(h_Mjj) \n",
      "         h_ratio = makeRatio(objects[0],objects[1],ymin=0,ymax=8)\n",
      "         h_ratio.SetMarkerColor('black')\n",
      "         pad1=c.GetPad(1)\n",
      "         pad2=c.GetPad(2)\n",
      "         pad1.cd()\n",
      "         draw(objects, xtitle=xtitles[var], ytitle='Events', ypadding=0.05,logy=False)\n",
      "         legend.Draw()\n",
      "         pad2.cd()\n",
      "         h_ratio.Draw()\n",
      "         c.SaveAs('/Users/Mia/Documents/Work/Slides/WgVBS/inclusive/'+var+'_linearscale_vbs_region.pdf')"
     ],
     "language": "python",
     "metadata": {},
     "outputs": [
      {
       "output_type": "stream",
       "stream": "stderr",
       "text": [
        "WARNING:ROOT.TCanvas.Constructor:Deleting canvas with same name: Rcanv\n"
       ]
      },
      {
       "output_type": "stream",
       "stream": "stderr",
       "text": [
        "WARNING:ROOT.TCanvas.Constructor] Deleting canvas with same name: Rcanv\n"
       ]
      },
      {
       "output_type": "stream",
       "stream": "stderr",
       "text": [
        "INFO:rootpy.plotting.style:using ROOT style 'ATLAS'\n"
       ]
      },
      {
       "output_type": "stream",
       "stream": "stderr",
       "text": [
        "INFO:rootpy.plotting.style] using ROOT style 'ATLAS'\n"
       ]
      },
      {
       "output_type": "stream",
       "stream": "stderr",
       "text": [
        "INFO:ROOT.TCanvas.Print:pdf file /Users/Mia/Documents/Work/Slides/WgVBS/inclusive/min(dYj0_lg,dYj1_lg)_linearscale_vbs_region.pdf has been created\n"
       ]
      },
      {
       "output_type": "stream",
       "stream": "stderr",
       "text": [
        "INFO:ROOT.TCanvas.Print] pdf file /Users/Mia/Documents/Work/Slides/WgVBS/inclusive/min(dYj0_lg,dYj1_lg)_linearscale_vbs_region.pdf has been created\n"
       ]
      },
      {
       "output_type": "stream",
       "stream": "stderr",
       "text": [
        "INFO:ROOT.TCanvas.Print:pdf file /Users/Mia/Documents/Work/Slides/WgVBS/inclusive/dYj0_lg_linearscale_vbs_region.pdf has been created\n"
       ]
      },
      {
       "output_type": "stream",
       "stream": "stderr",
       "text": [
        "INFO:ROOT.TCanvas.Print] pdf file /Users/Mia/Documents/Work/Slides/WgVBS/inclusive/dYj0_lg_linearscale_vbs_region.pdf has been created\n"
       ]
      },
      {
       "output_type": "stream",
       "stream": "stderr",
       "text": [
        "INFO:ROOT.TCanvas.Print:pdf file /Users/Mia/Documents/Work/Slides/WgVBS/inclusive/dYj1_lg_linearscale_vbs_region.pdf has been created\n"
       ]
      },
      {
       "output_type": "stream",
       "stream": "stderr",
       "text": [
        "INFO:ROOT.TCanvas.Print] pdf file /Users/Mia/Documents/Work/Slides/WgVBS/inclusive/dYj1_lg_linearscale_vbs_region.pdf has been created\n"
       ]
      },
      {
       "output_type": "stream",
       "stream": "stderr",
       "text": [
        "INFO:ROOT.TCanvas.Print:pdf file /Users/Mia/Documents/Work/Slides/WgVBS/inclusive/ph_E_linearscale_vbs_region.pdf has been created\n"
       ]
      },
      {
       "output_type": "stream",
       "stream": "stderr",
       "text": [
        "INFO:ROOT.TCanvas.Print] pdf file /Users/Mia/Documents/Work/Slides/WgVBS/inclusive/ph_E_linearscale_vbs_region.pdf has been created\n"
       ]
      },
      {
       "output_type": "stream",
       "stream": "stderr",
       "text": [
        "INFO:ROOT.TCanvas.Print:pdf file /Users/Mia/Documents/Work/Slides/WgVBS/inclusive/ph_Pt_linearscale_vbs_region.pdf has been created\n"
       ]
      },
      {
       "output_type": "stream",
       "stream": "stderr",
       "text": [
        "INFO:ROOT.TCanvas.Print] pdf file /Users/Mia/Documents/Work/Slides/WgVBS/inclusive/ph_Pt_linearscale_vbs_region.pdf has been created\n"
       ]
      },
      {
       "output_type": "stream",
       "stream": "stderr",
       "text": [
        "INFO:ROOT.TCanvas.Print:pdf file /Users/Mia/Documents/Work/Slides/WgVBS/inclusive/ph_Phi_linearscale_vbs_region.pdf has been created\n"
       ]
      },
      {
       "output_type": "stream",
       "stream": "stderr",
       "text": [
        "INFO:ROOT.TCanvas.Print] pdf file /Users/Mia/Documents/Work/Slides/WgVBS/inclusive/ph_Phi_linearscale_vbs_region.pdf has been created\n"
       ]
      },
      {
       "output_type": "stream",
       "stream": "stderr",
       "text": [
        "INFO:ROOT.TCanvas.Print:pdf file /Users/Mia/Documents/Work/Slides/WgVBS/inclusive/jet_leading_Eta_linearscale_vbs_region.pdf has been created\n"
       ]
      },
      {
       "output_type": "stream",
       "stream": "stderr",
       "text": [
        "INFO:ROOT.TCanvas.Print] pdf file /Users/Mia/Documents/Work/Slides/WgVBS/inclusive/jet_leading_Eta_linearscale_vbs_region.pdf has been created\n"
       ]
      },
      {
       "output_type": "stream",
       "stream": "stderr",
       "text": [
        "INFO:ROOT.TCanvas.Print:pdf file /Users/Mia/Documents/Work/Slides/WgVBS/inclusive/lep_E_linearscale_vbs_region.pdf has been created\n"
       ]
      },
      {
       "output_type": "stream",
       "stream": "stderr",
       "text": [
        "INFO:ROOT.TCanvas.Print] pdf file /Users/Mia/Documents/Work/Slides/WgVBS/inclusive/lep_E_linearscale_vbs_region.pdf has been created\n"
       ]
      },
      {
       "output_type": "stream",
       "stream": "stderr",
       "text": [
        "INFO:ROOT.TCanvas.Print:pdf file /Users/Mia/Documents/Work/Slides/WgVBS/inclusive/lep_Pt_linearscale_vbs_region.pdf has been created\n"
       ]
      },
      {
       "output_type": "stream",
       "stream": "stderr",
       "text": [
        "INFO:ROOT.TCanvas.Print] pdf file /Users/Mia/Documents/Work/Slides/WgVBS/inclusive/lep_Pt_linearscale_vbs_region.pdf has been created\n"
       ]
      },
      {
       "output_type": "stream",
       "stream": "stderr",
       "text": [
        "INFO:ROOT.TCanvas.Print:pdf file /Users/Mia/Documents/Work/Slides/WgVBS/inclusive/lep_Phi_linearscale_vbs_region.pdf has been created\n"
       ]
      },
      {
       "output_type": "stream",
       "stream": "stderr",
       "text": [
        "INFO:ROOT.TCanvas.Print] pdf file /Users/Mia/Documents/Work/Slides/WgVBS/inclusive/lep_Phi_linearscale_vbs_region.pdf has been created\n"
       ]
      },
      {
       "output_type": "stream",
       "stream": "stderr",
       "text": [
        "INFO:ROOT.TCanvas.Print:pdf file /Users/Mia/Documents/Work/Slides/WgVBS/inclusive/jet_subleading_Eta_linearscale_vbs_region.pdf has been created\n"
       ]
      },
      {
       "output_type": "stream",
       "stream": "stderr",
       "text": [
        "INFO:ROOT.TCanvas.Print] pdf file /Users/Mia/Documents/Work/Slides/WgVBS/inclusive/jet_subleading_Eta_linearscale_vbs_region.pdf has been created\n"
       ]
      },
      {
       "output_type": "stream",
       "stream": "stderr",
       "text": [
        "INFO:ROOT.TCanvas.Print:pdf file /Users/Mia/Documents/Work/Slides/WgVBS/inclusive/MET_linearscale_vbs_region.pdf has been created\n"
       ]
      },
      {
       "output_type": "stream",
       "stream": "stderr",
       "text": [
        "INFO:ROOT.TCanvas.Print] pdf file /Users/Mia/Documents/Work/Slides/WgVBS/inclusive/MET_linearscale_vbs_region.pdf has been created\n"
       ]
      },
      {
       "output_type": "stream",
       "stream": "stderr",
       "text": [
        "INFO:ROOT.TCanvas.Print:pdf file /Users/Mia/Documents/Work/Slides/WgVBS/inclusive/Mt_linearscale_vbs_region.pdf has been created\n"
       ]
      },
      {
       "output_type": "stream",
       "stream": "stderr",
       "text": [
        "INFO:ROOT.TCanvas.Print] pdf file /Users/Mia/Documents/Work/Slides/WgVBS/inclusive/Mt_linearscale_vbs_region.pdf has been created\n"
       ]
      },
      {
       "output_type": "stream",
       "stream": "stderr",
       "text": [
        "INFO:ROOT.TCanvas.Print:pdf file /Users/Mia/Documents/Work/Slides/WgVBS/inclusive/Mt_Wg_linearscale_vbs_region.pdf has been created\n"
       ]
      },
      {
       "output_type": "stream",
       "stream": "stderr",
       "text": [
        "INFO:ROOT.TCanvas.Print] pdf file /Users/Mia/Documents/Work/Slides/WgVBS/inclusive/Mt_Wg_linearscale_vbs_region.pdf has been created\n"
       ]
      },
      {
       "output_type": "stream",
       "stream": "stderr",
       "text": [
        "INFO:ROOT.TCanvas.Print:pdf file /Users/Mia/Documents/Work/Slides/WgVBS/inclusive/njets_linearscale_vbs_region.pdf has been created\n"
       ]
      },
      {
       "output_type": "stream",
       "stream": "stderr",
       "text": [
        "INFO:ROOT.TCanvas.Print] pdf file /Users/Mia/Documents/Work/Slides/WgVBS/inclusive/njets_linearscale_vbs_region.pdf has been created\n"
       ]
      },
      {
       "output_type": "stream",
       "stream": "stderr",
       "text": [
        "INFO:ROOT.TCanvas.Print:pdf file /Users/Mia/Documents/Work/Slides/WgVBS/inclusive/Mlg_linearscale_vbs_region.pdf has been created\n"
       ]
      },
      {
       "output_type": "stream",
       "stream": "stderr",
       "text": [
        "INFO:ROOT.TCanvas.Print] pdf file /Users/Mia/Documents/Work/Slides/WgVBS/inclusive/Mlg_linearscale_vbs_region.pdf has been created\n"
       ]
      },
      {
       "output_type": "stream",
       "stream": "stderr",
       "text": [
        "INFO:ROOT.TCanvas.Print:pdf file /Users/Mia/Documents/Work/Slides/WgVBS/inclusive/Mjj_linearscale_vbs_region.pdf has been created\n"
       ]
      },
      {
       "output_type": "stream",
       "stream": "stderr",
       "text": [
        "INFO:ROOT.TCanvas.Print] pdf file /Users/Mia/Documents/Work/Slides/WgVBS/inclusive/Mjj_linearscale_vbs_region.pdf has been created\n"
       ]
      },
      {
       "output_type": "stream",
       "stream": "stderr",
       "text": [
        "INFO:ROOT.TCanvas.Print:pdf file /Users/Mia/Documents/Work/Slides/WgVBS/inclusive/Ptjj_linearscale_vbs_region.pdf has been created\n"
       ]
      },
      {
       "output_type": "stream",
       "stream": "stderr",
       "text": [
        "INFO:ROOT.TCanvas.Print] pdf file /Users/Mia/Documents/Work/Slides/WgVBS/inclusive/Ptjj_linearscale_vbs_region.pdf has been created\n"
       ]
      },
      {
       "output_type": "stream",
       "stream": "stderr",
       "text": [
        "INFO:ROOT.TCanvas.Print:pdf file /Users/Mia/Documents/Work/Slides/WgVBS/inclusive/dYjj_linearscale_vbs_region.pdf has been created\n"
       ]
      },
      {
       "output_type": "stream",
       "stream": "stderr",
       "text": [
        "INFO:ROOT.TCanvas.Print] pdf file /Users/Mia/Documents/Work/Slides/WgVBS/inclusive/dYjj_linearscale_vbs_region.pdf has been created\n"
       ]
      },
      {
       "output_type": "stream",
       "stream": "stderr",
       "text": [
        "INFO:ROOT.TCanvas.Print:pdf file /Users/Mia/Documents/Work/Slides/WgVBS/inclusive/pt_balance_linearscale_vbs_region.pdf has been created\n"
       ]
      },
      {
       "output_type": "stream",
       "stream": "stderr",
       "text": [
        "INFO:ROOT.TCanvas.Print] pdf file /Users/Mia/Documents/Work/Slides/WgVBS/inclusive/pt_balance_linearscale_vbs_region.pdf has been created\n"
       ]
      },
      {
       "output_type": "stream",
       "stream": "stderr",
       "text": [
        "INFO:ROOT.TCanvas.Print:pdf file /Users/Mia/Documents/Work/Slides/WgVBS/inclusive/abs(lg_Centrality)_linearscale_vbs_region.pdf has been created\n"
       ]
      },
      {
       "output_type": "stream",
       "stream": "stderr",
       "text": [
        "INFO:ROOT.TCanvas.Print] pdf file /Users/Mia/Documents/Work/Slides/WgVBS/inclusive/abs(lg_Centrality)_linearscale_vbs_region.pdf has been created\n"
       ]
      },
      {
       "output_type": "stream",
       "stream": "stderr",
       "text": [
        "INFO:ROOT.TCanvas.Print:pdf file /Users/Mia/Documents/Work/Slides/WgVBS/inclusive/abs(l_Centrality)_linearscale_vbs_region.pdf has been created\n"
       ]
      },
      {
       "output_type": "stream",
       "stream": "stderr",
       "text": [
        "INFO:ROOT.TCanvas.Print] pdf file /Users/Mia/Documents/Work/Slides/WgVBS/inclusive/abs(l_Centrality)_linearscale_vbs_region.pdf has been created\n"
       ]
      },
      {
       "output_type": "stream",
       "stream": "stderr",
       "text": [
        "INFO:ROOT.TCanvas.Print:pdf file /Users/Mia/Documents/Work/Slides/WgVBS/inclusive/jet_leading_Pt_linearscale_vbs_region.pdf has been created\n"
       ]
      },
      {
       "output_type": "stream",
       "stream": "stderr",
       "text": [
        "INFO:ROOT.TCanvas.Print] pdf file /Users/Mia/Documents/Work/Slides/WgVBS/inclusive/jet_leading_Pt_linearscale_vbs_region.pdf has been created\n"
       ]
      },
      {
       "output_type": "stream",
       "stream": "stderr",
       "text": [
        "INFO:ROOT.TCanvas.Print:pdf file /Users/Mia/Documents/Work/Slides/WgVBS/inclusive/jet_subleading_Pt_linearscale_vbs_region.pdf has been created\n"
       ]
      },
      {
       "output_type": "stream",
       "stream": "stderr",
       "text": [
        "INFO:ROOT.TCanvas.Print] pdf file /Users/Mia/Documents/Work/Slides/WgVBS/inclusive/jet_subleading_Pt_linearscale_vbs_region.pdf has been created\n"
       ]
      },
      {
       "output_type": "stream",
       "stream": "stderr",
       "text": [
        "INFO:ROOT.TCanvas.Print:pdf file /Users/Mia/Documents/Work/Slides/WgVBS/inclusive/dRgj0_linearscale_vbs_region.pdf has been created\n"
       ]
      },
      {
       "output_type": "stream",
       "stream": "stderr",
       "text": [
        "INFO:ROOT.TCanvas.Print] pdf file /Users/Mia/Documents/Work/Slides/WgVBS/inclusive/dRgj0_linearscale_vbs_region.pdf has been created\n"
       ]
      },
      {
       "output_type": "stream",
       "stream": "stderr",
       "text": [
        "INFO:ROOT.TCanvas.Print:pdf file /Users/Mia/Documents/Work/Slides/WgVBS/inclusive/dRgj1_linearscale_vbs_region.pdf has been created\n"
       ]
      },
      {
       "output_type": "stream",
       "stream": "stderr",
       "text": [
        "INFO:ROOT.TCanvas.Print] pdf file /Users/Mia/Documents/Work/Slides/WgVBS/inclusive/dRgj1_linearscale_vbs_region.pdf has been created\n"
       ]
      }
     ],
     "prompt_number": 11
    },
    {
     "cell_type": "code",
     "collapsed": false,
     "input": [
      "## inputs for stack plots\n",
      "input_dir='/Users/Mia/Documents/Work/WgZgPhysics/Analysis/WgTemplates/0807_2014_VeryTight/'\n",
      "output_dir='/Users/Mia/Documents/Work/Slides/WgVBS/'\n",
      "data='data.root'\n",
      "#### plotting code\n",
      "legends=['W#gamma VBS','W#gamma QCD','Z+jets','#gamma+jet','ttbar','W+jets']\n",
      "#,'top+#gamma']\n",
      "legends_mc=['W#gamma VBS','W#gamma QCD','Z+jets','ttbar','W+jets']\n",
      "            #'top+#gamma']\n",
      "mc_estimate=['wenugvbs_sherpa.root','wenug_sherpa.root','zee_mjj_filter.root','ttbar_mcnlo.root','wenu_sherpa.root']\n",
      "#['wenugvbs.root','wenug.root','wenu.root','zee.root','ttbar.root']"
     ],
     "language": "python",
     "metadata": {},
     "outputs": [],
     "prompt_number": 17
    },
    {
     "cell_type": "code",
     "collapsed": false,
     "input": [
      "## draw stack plots.\n",
      "c=makeDivCan()\n",
      "with style:\n",
      "     for var in variables:\n",
      "         #var_index = variables.index(var) ##what to plot\n",
      "         stack = HistStack()##stack for bkgs+signal mc\n",
      "         legend = Legend(7, leftmargin=0.6, margin=0.3)\n",
      "         legend.SetTextSize(40)\n",
      "         h_data=Hist(ranges[var])## data hist\n",
      "         f_data = root_open(input_dir+data)\n",
      "         f_t=f_data.CollectionTree\n",
      "         f_t.Draw(var,selection=signal_region,hist=h_data)\n",
      "         h_data.SetTitle('data')\n",
      "         legend.AddEntry(h_data, style='LEP')\n",
      "\n",
      "         for sample in mc_estimate:\n",
      "             index=mc_estimate.index(sample)\n",
      "             #print sample, index\n",
      "             if 'wenu_'in sample and not use_wenumc:\n",
      "                continue\n",
      "             f=root_open(input_dir+sample)\n",
      "             t=f.CollectionTree\n",
      "             h=Hist(ranges[var])\n",
      "             if use_wenumc and 'wenu_'in sample:\n",
      "                h=t.Draw(var,selection=signal_region_mjjfiltered,hist=h)\n",
      "                h.scale(N_wenu_mjj_Scale)\n",
      "             elif 'zee_mjj' in sample:\n",
      "                h=t.Draw(var,selection=signal_region_mjjfiltered,hist=h)\n",
      "                h.scale(N_zee_mjj_Scale)\n",
      "             elif index==0:h=t.Draw(var,selection=signal_region_bveto,hist=h)\n",
      "             else : h=t.Draw(var,selection=signal_region,hist=h)\n",
      "             h.Sumw2()\n",
      "             #if index==2:h.scale(wjets_scale)\n",
      "             if index==1:h.scale(wenug_scale)\n",
      "            # print legends_mc[index],sample,index\n",
      "             h.SetTitle(legends_mc[index])\n",
      "             h.fillstyle = 'solid'\n",
      "             h.fillcolor = colors[index]\n",
      "             h.linecolor = colors[index]\n",
      "             h.linewidth = 0\n",
      "             stack.Add(h)\n",
      "             legend.AddEntry(h,style='F')\n",
      "             print sample ,h.GetSumOfWeights()\n",
      "             #f.Close()\n",
      "         h_dp_DD=Hist(ranges[var])## DD dp hist from control regions\n",
      "         h_tp=Hist(ranges[var]) \n",
      "         h_wenu_DD=Hist(ranges[var])\n",
      "         f_data = root_open(input_dir+data)\n",
      "         f_t=f_data.CollectionTree\n",
      "                \n",
      "         f_t.Draw(var,selection=ejet_cr_B,hist=h_dp_DD)\n",
      "         h_dp_DD.scale(N_dp_DD_Scale)            \n",
      "         h_dp_DD.SetTitle('#gamma+jet DD')\n",
      "         h_dp_DD.fillstyle = 'solid'\n",
      "         h_dp_DD.fillcolor='green'\n",
      "         h_dp_DD.linecolor='green'\n",
      "         h_dp_DD.linewidth = 0\n",
      "         stack.Add(h_dp_DD)\n",
      "         print 'dp, DD', h_dp_DD.GetSumOfWeights()\n",
      "         legend.AddEntry(h_dp_DD, style='F')\n",
      "\n",
      "         f_t.Draw(var,selection=gjet_cr_B,hist=h_wenu_DD)\n",
      "         h_wenu_DD.scale(N_wenu_DD_Scale)            \n",
      "         h_wenu_DD.SetTitle('W+jets DD')\n",
      "         h_wenu_DD.fillstyle = 'solid'\n",
      "         h_wenu_DD.fillcolor='yellow'\n",
      "         h_wenu_DD.linecolor='yellow'\n",
      "         h_wenu_DD.linewidth = 0\n",
      "         if not use_wenumc:stack.Add(h_wenu_DD)\n",
      "         print 'wenu, DD', h_wenu_DD.GetSumOfWeights()\n",
      "         legend.AddEntry(h_wenu_DD, style='F')\n",
      "\n",
      "         f_tp = root_open(input_dir+'wenugvbs_sherpa.root')\n",
      "         t_tp = f_tp.CollectionTree\n",
      "         t_tp.Draw(var,selection=signal_region_btag,hist=h_tp)\n",
      "         h_tp.SetTitle('single top + #gamma')\n",
      "         h_tp.fillstyle = 'solid'\n",
      "         h_tp.fillcolor='#ea2ec4'\n",
      "         h_tp.linecolor='#ea2ec4'\n",
      "         h_tp.linewidth = 0\n",
      "         print 'tp ', h_tp.GetSumOfWeights()\n",
      "         \n",
      "         stack.Add(h_tp)\n",
      "         legend.AddEntry(h_tp, style='F')        \n",
      "         xmin, xmax, ymin, ymax = get_limits([h_data,stack], logy=False)\n",
      "         #h_data.SetMaximum(500)\n",
      "         stack.SetMaximum(ymax)\n",
      "         pad1=c.GetPad(1)\n",
      "         pad2=c.GetPad(2)\n",
      "         pad1.cd()\n",
      "         stack.Draw('HIST X0')\n",
      "         h_data.Draw('SAME E1 X0')\n",
      "         pad1.Modified()\n",
      "         stack.xaxis.SetTitle(xtitles[variables.index(var)])\n",
      "         stack.yaxis.SetTitle('Events/Bin')\n",
      "         legend.Draw()         \n",
      "         pad2.cd()\n",
      "         pad2.SetGridy()\n",
      "         h_data_c = h_data.Clone()\n",
      "         h_ratio = makeRatio(h_data_c,stack,ymin=0,ymax=2)\n",
      "         h_ratio.Draw('E1 X0')\n",
      "         c.Modified()\n",
      "         c.Update()\n",
      "         #c.SaveAs(output_dir+var+'.pdf') \n",
      "         c.SaveAs('/Users/Mia/Documents/Thesis/DissertationMia/Pictures/'+var+'inclusive.pdf')\n",
      "         f_data.Close()\n",
      "     c"
     ],
     "language": "python",
     "metadata": {},
     "outputs": [
      {
       "metadata": {},
       "output_type": "pyout",
       "png": "[encoded data removed]",
       "prompt_number": 3,
       "text": [
        "<IPython.core.display.Image at 0x10d016250>"
       ]
      }
     ],
     "prompt_number": 3
    },
    {
     "cell_type": "code",
     "collapsed": false,
     "input": [],
     "language": "python",
     "metadata": {},
     "outputs": [],
     "prompt_number": 3
    }
   ],
   "metadata": {}
  }
 ]
}