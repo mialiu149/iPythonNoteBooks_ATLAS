{
 "metadata": {
  "name": ""
 },
 "nbformat": 3,
 "nbformat_minor": 0,
 "worksheets": [
  {
   "cells": [
    {
     "cell_type": "code",
     "collapsed": false,
     "input": [
      "%run talktools\n",
      "website('nbviewer.ipython.org', 'Notebook Viewer - nbviewer')"
     ],
     "language": "python",
     "metadata": {},
     "outputs": [
      {
       "html": [
        "<style>\n",
        "\n",
        ".rendered_html\n",
        "{\n",
        "  color: #2C5494;\n",
        "  font-family: Ubuntu;\n",
        "  font-size: 140%;\n",
        "  line-height: 1.1;\n",
        "  margin: 0.5em 0;\n",
        "  }\n",
        "\n",
        ".title\n",
        "{\n",
        "  color: #498AF3;\n",
        "  font-size: 250%;\n",
        "  font-weight:bold;\n",
        "  line-height: 1.2; \n",
        "  margin: 10px 50px 10px;\n",
        "  }\n",
        "\n",
        ".subtitle\n",
        "{\n",
        "  color: #386BBC;\n",
        "  font-size: 180%;\n",
        "  font-weight:bold;\n",
        "  line-height: 1.2; \n",
        "  margin: 20px 50px 20px;\n",
        "  }\n",
        "\n",
        ".slide-header, p.slide-header\n",
        "{\n",
        "  color: #498AF3;\n",
        "  font-size: 200%;\n",
        "  font-weight:bold;\n",
        "  margin: 0px 20px 10px;\n",
        "  page-break-before: always;\n",
        "  text-align: center;\n",
        "  }\n",
        "\n",
        ".rendered_html h1\n",
        "{\n",
        "  color: #498AF3;\n",
        "  line-height: 1.2; \n",
        "  margin: 0.15em 0em 0.5em;\n",
        "  page-break-before: always;\n",
        "  text-align: center;\n",
        "  }\n",
        "\n",
        "\n",
        ".rendered_html h2\n",
        "{ \n",
        "  color: #386BBC;\n",
        "  line-height: 1.2;\n",
        "  margin: 1.1em 0em 0.5em;\n",
        "  }\n",
        "\n",
        ".rendered_html h3\n",
        "{ \n",
        "  font-size: 100%;\n",
        "  line-height: 1.2;\n",
        "  margin: 1.1em 0em 0.5em;\n",
        "  }\n",
        "\n",
        ".rendered_html li\n",
        "{\n",
        "  line-height: 1.8;\n",
        "  }\n",
        "\n",
        ".input_prompt, .CodeMirror-lines, .output_area\n",
        "{\n",
        "  font-family: Consolas;\n",
        "  font-size: 120%;\n",
        "  }\n",
        "\n",
        ".gap-above\n",
        "{\n",
        "  padding-top: 200px;\n",
        "  }\n",
        "\n",
        ".gap01\n",
        "{\n",
        "  padding-top: 10px;\n",
        "  }\n",
        "\n",
        ".gap05\n",
        "{\n",
        "  padding-top: 50px;\n",
        "  }\n",
        "\n",
        ".gap1\n",
        "{\n",
        "  padding-top: 100px;\n",
        "  }\n",
        "\n",
        ".gap2\n",
        "{\n",
        "  padding-top: 200px;\n",
        "  }\n",
        "\n",
        ".gap3\n",
        "{\n",
        "  padding-top: 300px;\n",
        "  }\n",
        "\n",
        ".emph\n",
        "{\n",
        "  color: #386BBC;\n",
        "  }\n",
        "\n",
        ".warn\n",
        "{\n",
        "  color: red;\n",
        "  }\n",
        "\n",
        ".center\n",
        "{\n",
        "  text-align: center;\n",
        "  }\n",
        "\n",
        ".nb_link\n",
        "{\n",
        "    padding-bottom: 0.5em;\n",
        "}\n",
        "\n",
        "</style>\n"
       ],
       "metadata": {},
       "output_type": "display_data",
       "text": [
        "<IPython.core.display.HTML at 0x106d35e10>"
       ]
      },
      {
       "html": [
        "<div class=\"nb_link\">\n",
        "<a href=\"http://nbviewer.ipython.org\" target=\"_blank\">Notebook Viewer - nbviewer</a>\n",
        "</div>\n",
        "<iframe src=\"http://nbviewer.ipython.org\"  width=\"800\" height=\"450\">"
       ],
       "metadata": {},
       "output_type": "pyout",
       "prompt_number": 3,
       "text": [
        "<IPython.core.display.HTML at 0x106d35e50>"
       ]
      }
     ],
     "prompt_number": 3
    },
    {
     "cell_type": "code",
     "collapsed": false,
     "input": [
      "%pylab inline\n",
      "import pylab as py\n",
      "import numpy as np\n",
      "from scipy import optimize\n",
      "\n",
      "# Generate a \n",
      "y = np.random.standard_normal(10000)\n",
      "data = py.hist(y, bins = 100)\n",
      "\n",
      "# Equation for Gaussian\n",
      "def f(x, a, b, c):\n",
      "    return a * py.exp(-(x - b)**2.0 / (2 * c**2))\n",
      "\n",
      "# Generate data from bins as a set of points \n",
      "x = [0.5 * (data[1][i] + data[1][i+1]) for i in xrange(len(data[1])-1)]\n",
      "y = data[0]\n",
      "\n",
      "popt, pcov = optimize.curve_fit(f, x, y)\n",
      "\n",
      "x_fit = py.linspace(x[0], x[-1], 100)\n",
      "y_fit = f(x_fit, *popt)\n",
      "\n",
      "plt.plot(x_fit, y_fit, lw=4, color=\"r\")"
     ],
     "language": "python",
     "metadata": {},
     "outputs": [
      {
       "output_type": "stream",
       "stream": "stdout",
       "text": [
        "Populating the interactive namespace from numpy and matplotlib\n"
       ]
      },
      {
       "output_type": "stream",
       "stream": "stderr",
       "text": [
        "WARNING: pylab import has clobbered these variables: ['plt', 'f']\n",
        "`%pylab --no-import-all` prevents importing * from pylab and numpy\n"
       ]
      },
      {
       "metadata": {},
       "output_type": "pyout",
       "prompt_number": 3,
       "text": [
        "[<matplotlib.lines.Line2D at 0x106d7f2d0>]"
       ]
      },
      {
       "metadata": {},
       "output_type": "display_data",
       "png": "[encoded data removed]",
       "text": [
        "<matplotlib.figure.Figure at 0x106365f50>"
       ]
      }
     ],
     "prompt_number": 3
    },
    {
     "cell_type": "code",
     "collapsed": false,
     "input": [
      "%pylab inline"
     ],
     "language": "python",
     "metadata": {},
     "outputs": [
      {
       "output_type": "stream",
       "stream": "stdout",
       "text": [
        "Populating the interactive namespace from numpy and matplotlib\n"
       ]
      },
      {
       "output_type": "stream",
       "stream": "stderr",
       "text": [
        "WARNING: pylab import has clobbered these variables: ['f']\n",
        "`%pylab --no-import-all` prevents importing * from pylab and numpy\n"
       ]
      }
     ],
     "prompt_number": 37
    },
    {
     "cell_type": "code",
     "collapsed": false,
     "input": [
      "csv_base='/Users/Mia/Documents/WgZgPhysics/Analysis/WgTemplates/test_inclusive/templates_tune1/'\n",
      "    #print 'Loading csv files from '+csv_base\n",
      "names=['RunNumber','EventNumber','njets','el_region','ph_region','truthregion',\n",
      "                                            'averageIntPerXing','jet0_E','jet0_Pt','jet0_Eta','jet0_Phi','jet1_E',\n",
      "                                            'jet1_Pt','jet1_Eta','jet1_Phi','lep_Charge','lep_E','lep_Pt','lep_Eta',\n",
      "                                            'lep_Phi','lep_sf','lep_iso20','lep_iso30','lep_iso40','ph_E','ph_Pt',\n",
      "                                            'ph_Eta','ph_Phi','ph_iso20','ph_iso30','ph_iso40','ph_pdgId','ph_mother',\n",
      "                                            'METx','METy','MET','Mt','Mlg','Ptlg','dRlg','dRlj0','dRlj1','dYgj0','dYgj1',\n",
      "                                            'Mjj','Ptjj','dYjj','dRjj','Mlgj0','Mlgj1','Ptlgj0','Ptlgj1','Mlgjj','Ptlgjj',\n",
      "                                            'dYj0_lg','dYj1_lg','pt_balance','lg_Centrality','l_Centrality','iso0','iso1','weight']\n",
      "samples={'data':None,'wenugvbs':None,'wenug':None,'wenu':None,'zee':None,'dp':None,'ttbar':None}\n",
      "#print 'Cuts applied: njets>= ',njets,',Mjj >= ',Mjj,'GeV',',dYjj>= ',dYjj\n",
      "for f in ['wenugvbs','wenug','dp']:\n",
      "        dp = np.genfromtxt(csv_base+f+'.csv', delimiter=',', skip_header=10,\n",
      "                     skip_footer=10, names=names)\n",
      "        # add cuts here\n",
      "        data=dp\n",
      "        #data=dp[np.where(dp['ph_region']==0)]\n",
      "        #data=data[np.where(data['njets']>=0)]\n",
      "        #data=data[np.where(data['Mjj']>=550)]\n",
      "        #data=data[np.where(data['dYjj']>=2)]\n",
      "        #data=data[np.where(data['dYj0_lg']<=0.6)]\n",
      "        samples[f]=data\n",
      "#islog=False\n",
      "#majorLocator   = MultipleLocator(0.01)\n",
      "#majorFormatter = FormatStrFormatter('%d')\n",
      "#myxlim= [min(x),max(x)]\n",
      "#myylim= [min(y),max(y)]\n",
      "#xlims = [min(x),max(x)]\n",
      "#ylims = [min(y),max(y)]\n",
      "# histogram our data with numpy\n",
      "#data = np.random.randn(1000)\n",
      "#print data[np.where(data['MET'] < 30)]['RunNumber']\n"
     ],
     "language": "python",
     "metadata": {},
     "outputs": [],
     "prompt_number": 64
    },
    {
     "cell_type": "code",
     "collapsed": false,
     "input": [
      "fig = plt.figure()\n",
      "range = [0,1]\n",
      "nbin = 50\n",
      "#lowMET=data[np.where(data['MET'] < 30)]\n",
      "#lowMET=lowMET[np.where(lowMET['Mt'] < 35)]\n",
      "#highMET=data[np.where(data['MET'] > 35)]\n",
      "#highMET=highMET[np.where(highMET['Mt'] < 35)]\n",
      "#n, bins = np.histogram(lowMET['lep_iso30']/lowMET['lep_Pt'], 100)\n",
      "#n1, bins1 = np.histogram(highMET['lep_iso30']/highMET['lep_Pt'], 100)\n",
      "hist(samples['wenugvbs']['pt_balance'],histtype='stepfilled',color='r',alpha=0.8,bins=nbin,range=range,normed=True,label='Wenug VBS')\n",
      "hist(samples['wenug']['pt_balance'],histtype='stepfilled',color='b',alpha=0.5,bins=nbin,range=range,normed=True,label='Wenug QCD')\n",
      "#hist(lowMET['lep_iso30']/lowMET['lep_Pt'],histtype='stepfilled',color='k',alpha=0.4,bins=nbin,range=range,normed=True,label='MET < 30 GeV')\n",
      "#hist(highMET['lep_iso30']/highMET['lep_Pt'],histtype='stepfilled',color='k',alpha=0.1,bins=nbin,range=range,normed=True,label='MET > 35 GeV')\n",
      "legend(loc=0,bbox_to_anchor = (0.6, 0.7),fontsize=12)\n",
      "xlabel('pt balance, after requiring dYj0_lg < 0.6',fontsize=12)\n",
      "#xlim(myxlim)\n",
      "#ylim(myylim)\n",
      "#text(0.015,70,\"lep_iso30/lep_pt\",fontdict={'fontsize':20})\n",
      "#ax.yaxis.set_major_formatter( NullFormatter() )\n",
      "#ax.xaxis.set_major_locator( majorLocator )\n",
      "#print highMET['lep_iso30']\n",
      "output_dir='/Users/Mia/Documents/Slides/'\n",
      "#fig.savefig(output_dir+'pt_balance_with_dYj0_lg_06.pdf')\n",
      "fig.show()\n"
     ],
     "language": "python",
     "metadata": {},
     "outputs": [
      {
       "metadata": {},
       "output_type": "display_data",
       "png": "[encoded data removed]",
       "text": [
        "<matplotlib.figure.Figure at 0x107f235d0>"
       ]
      }
     ],
     "prompt_number": 33
    },
    {
     "cell_type": "code",
     "collapsed": false,
     "input": [
      "fig = plt.figure(figsize=(6,6))\n",
      "#ax = fig.add_subplot(131)\n",
      "xedges = np.arange(-10,100,1)\n",
      "yedges = np.arange(-10,100,1)\n",
      "H, xedges, yedges = np.histogram2d(data['MET'],400*samples['dp']['lep_iso30']/samples['dp']['lep_Pt'], bins=(xedges, yedges),normed=False)\n",
      "im = plt.imshow(H, interpolation='nearest', origin='low',extent = [xedges[0], xedges[-1], yedges[0], yedges[-1]])\n",
      "#ax = fig.add_subplot(132)\n",
      "X, Y = np.meshgrid(xedges, yedges)\n",
      "plt.xlabel('MET [GeV]',fontsize=24)\n",
      "plt.ylabel('lep_iso30/lep_pt',fontsize=24)\n",
      "ax.pcolormesh(X, Y, H)\n",
      "ax.set_aspect('equal')\n",
      "#ax = fig.add_subplot(133)\n",
      "im = mpl.image.NonUniformImage(ax, interpolation='bilinear')\n",
      "xcenters = xedges[:-1] + 0.5 * (xedges[1:] - xedges[:-1])\n",
      "ycenters = yedges[:-1] + 0.5 * (yedges[1:] - yedges[:-1])\n",
      "im.set_data(xcenters, ycenters, H)\n",
      "ax.images.append(im)\n",
      "ax.set_xlim(xedges[0], xedges[-1])\n",
      "ax.set_ylim(yedges[0], yedges[-1])\n",
      "ax.set_aspect('equal')\n",
      "#ax = fig.add_subplot(231)\n",
      "#scatter(data['MET'],1000*data['lep_iso30']/data['lep_Pt'])\n",
      "#colorbar()\n",
      "plt.savefig('/Users/Mia/Documents/Slides/DP_ClosureTest2D.pdf')\n",
      "show()"
     ],
     "language": "python",
     "metadata": {},
     "outputs": [
      {
       "metadata": {},
       "output_type": "display_data",
       "png": "[encoded data removed]",
       "text": [
        "<matplotlib.figure.Figure at 0x10b6f5110>"
       ]
      }
     ],
     "prompt_number": 78
    },
    {
     "cell_type": "code",
     "collapsed": false,
     "input": [
      "#fig, ax = plt.subplots()\n",
      "fig = plt.figure()\n",
      "range = [0,2]\n",
      "#islog=False\n",
      "#majorLocator   = MultipleLocator(0.01)\n",
      "#majorFormatter = FormatStrFormatter('%d')\n",
      "#myxlim= [min(x),max(x)]\n",
      "#myylim= [min(y),max(y)]\n",
      "#xlims = [min(x),max(x)]\n",
      "#ylims = [min(y),max(y)]\n",
      "# histogram our data with numpy\n",
      "#data = np.random.randn(1000)\n",
      "#print data[np.where(data['MET'] < 30)]['RunNumber']\n",
      "nbin = 25\n",
      "dp_mc=samples['dp']\n",
      "print dp_mc['MET']\n",
      "lowMET=dp_mc[np.where(dp_mc['MET'] < 30)]\n",
      "lowMET=lowMET[np.where(lowMET['Mt'] < 35)]\n",
      "highMET=dp_mc[np.where(dp_mc['MET'] > 35)]\n",
      "highMET=highMET[np.where(highMET['Mt'] > 40)]\n",
      "#n, bins = np.histogram(lowMET['lep_iso30']/lowMET['lep_Pt'], 100)\n",
      "#n1, bins1 = np.histogram(highMET['lep_iso30']/highMET['lep_Pt'], 100)\n",
      "#hist(['Mt'],histtype='stepfilled',color='k',alpha=0.4,bins=nbin,range=range,normed=False,label='MET < 30 GeV')\n",
      "hist(lowMET['lep_iso30']/lowMET['lep_Pt'],histtype='stepfilled',color='r',alpha=0.8,bins=nbin,range=range,normed=True,label='MET < 30 GeV, Mt < 35 GeV')\n",
      "hist(highMET['lep_iso30']/highMET['lep_Pt'],histtype='stepfilled',color='r',alpha=0.4,bins=nbin,range=range,normed=True,label='MET > 35 GeV, Mt > 40 GeV')\n",
      "legend(loc=0,bbox_to_anchor = (0.8, 0.7),fontsize=12)\n",
      "plt.xlabel('el_iso30/el_Pt')\n",
      "plt.title('Electron isolation shapes for low MET and high MET regions,$\\gamma$+jet sample',fontsize=10)\n",
      "plt.savefig('/Users/Mia/Documents/Slides/DP_ClosureTest1D.pdf')\n",
      "#xlim(myxlim)\n",
      "#ylim(myylim)\n",
      "#text(0.015,70,\"lep_iso30/lep_pt\",fontdict={'fontsize':20})\n",
      "#ax.yaxis.set_major_formatter( NullFormatter() )\n",
      "#ax.xaxis.set_major_locator( majorLocator )\n",
      "#print highMET['lep_iso30']"
     ],
     "language": "python",
     "metadata": {},
     "outputs": [
      {
       "output_type": "stream",
       "stream": "stdout",
       "text": [
        "[ 16.80903125  10.82803711  12.06197949 ...,  30.12747656  63.42933594\n",
        "  32.01004688]\n"
       ]
      },
      {
       "metadata": {},
       "output_type": "display_data",
       "png": "[encoded data removed]",
       "text": [
        "<matplotlib.figure.Figure at 0x107f757d0>"
       ]
      }
     ],
     "prompt_number": 75
    },
    {
     "cell_type": "code",
     "collapsed": false,
     "input": [],
     "language": "python",
     "metadata": {},
     "outputs": []
    }
   ],
   "metadata": {}
  }
 ]
}