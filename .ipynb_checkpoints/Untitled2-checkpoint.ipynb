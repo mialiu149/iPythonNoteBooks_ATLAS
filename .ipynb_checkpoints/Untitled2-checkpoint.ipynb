{
 "metadata": {
  "name": "",
  "signature": "sha256:792faa1752b4303d0d24cc9f70037833ec5e6cc0b1bca434b77d69c97f198244"
 },
 "nbformat": 3,
 "nbformat_minor": 0,
 "worksheets": [
  {
   "cells": [
    {
     "cell_type": "code",
     "collapsed": false,
     "input": [
      "import sys\n",
      "import re\n",
      "import os\n",
      "import shutil\n",
      "import commands\n",
      "path = '/Users/Mia/Downloads/google-python-exercises/copyspecial/'"
     ],
     "language": "python",
     "metadata": {},
     "outputs": [],
     "prompt_number": 2
    },
    {
     "cell_type": "code",
     "collapsed": false,
     "input": [
      " os.path.basename?"
     ],
     "language": "python",
     "metadata": {},
     "outputs": [],
     "prompt_number": 10
    },
    {
     "cell_type": "code",
     "collapsed": false,
     "input": [
      "#!/usr/bin/python\n",
      "# Copyright 2010 Google Inc.\n",
      "# Licensed under the Apache License, Version 2.0\n",
      "# http://www.apache.org/licenses/LICENSE-2.0\n",
      "\n",
      "# Google's Python Class\n",
      "# http://code.google.com/edu/languages/google-python-class/\n",
      "\n",
      "import sys\n",
      "import re\n",
      "import os\n",
      "import shutil\n",
      "import commands\n",
      "\n",
      "\"\"\"Copy Special exercise\n",
      "\"\"\"\n",
      "\n",
      "# +++your code here+++\n",
      "# Write functions and modify main() to call them\n",
      "def get_special_paths(src_dir):\n",
      "    files = os.listdir(src_dir)\n",
      "    special_files = [os.joins(src_dir,f) for f in files if re.search(r'__w+__',f).groups() ]\n",
      "    for f in special_files:print special_files, \n",
      "    return special_files\n",
      "def copy_to(paths, des_dir):\n",
      "    if not os.exist(des_dir):os.mkdir(des_dir)\n",
      "    for path in paths: shutil.copy2(path.des_dir)\n",
      "    return\n",
      "def zip_to(paths, zipfile):\n",
      "    cmd = 'zip -j ' + zipfile + ' ' + ' '.join(paths)\n",
      "    \n",
      "    print 'I am going to zip'\n",
      "    return\n",
      "\n",
      "def main():\n",
      "  # This basic command line argument parsing code is provided.\n",
      "  # Add code to call your functions below.\n",
      "\n",
      "  # Make a list of command line arguments, omitting the [0] element\n",
      "  # which is the script itself.\n",
      "  args = sys.argv[1:]\n",
      "  print args\n",
      "  if not args:\n",
      "    print \"usage: [--todir dir][--tozip zipfile] dir [dir ...]\";\n",
      "    sys.exit(1)\n",
      "  \n",
      "  # todir and tozip are either set from command line\n",
      "  # or left as the empty string.\n",
      "  # The args array is left just containing the dirs.\n",
      "  todir = ''\n",
      "  if args[0] == '--todir':\n",
      "    todir = args[1]\n",
      "    del args[0:2]\n",
      "\n",
      "  tozip = ''\n",
      "  if args[0] == '--tozip':\n",
      "    tozip = args[1]\n",
      "    del args[0:2]\n",
      "\n",
      "  if len(args) == 0:\n",
      "    print \"error: must specify one or more dirs\"\n",
      "    sys.exit(1)\n",
      "  #get_special_paths(args)\n",
      "  paths = []\n",
      "  for dirname in args:\n",
      "      paths.extend(get_special_paths(dirname))\n",
      "  # +++your code here+++\n",
      "  # Call your functions\n",
      "  \n",
      "if __name__ == \"__main__\":\n",
      "  main()\n"
     ],
     "language": "python",
     "metadata": {},
     "outputs": [
      {
       "ename": "OSError",
       "evalue": "[Errno 2] No such file or directory: '-f'",
       "output_type": "pyerr",
       "traceback": [
        "\u001b[0;31m---------------------------------------------------------------------------\u001b[0m\n\u001b[0;31mOSError\u001b[0m                                   Traceback (most recent call last)",
        "\u001b[0;32m<ipython-input-35-7c0b164f6d5c>\u001b[0m in \u001b[0;36m<module>\u001b[0;34m()\u001b[0m\n\u001b[1;32m     69\u001b[0m \u001b[0;34m\u001b[0m\u001b[0m\n\u001b[1;32m     70\u001b[0m \u001b[0;32mif\u001b[0m \u001b[0m__name__\u001b[0m \u001b[0;34m==\u001b[0m \u001b[0;34m\"__main__\"\u001b[0m\u001b[0;34m:\u001b[0m\u001b[0;34m\u001b[0m\u001b[0m\n\u001b[0;32m---> 71\u001b[0;31m   \u001b[0mmain\u001b[0m\u001b[0;34m(\u001b[0m\u001b[0;34m)\u001b[0m\u001b[0;34m\u001b[0m\u001b[0m\n\u001b[0m",
        "\u001b[0;32m<ipython-input-35-7c0b164f6d5c>\u001b[0m in \u001b[0;36mmain\u001b[0;34m()\u001b[0m\n\u001b[1;32m     64\u001b[0m   \u001b[0mpaths\u001b[0m \u001b[0;34m=\u001b[0m \u001b[0;34m[\u001b[0m\u001b[0;34m]\u001b[0m\u001b[0;34m\u001b[0m\u001b[0m\n\u001b[1;32m     65\u001b[0m   \u001b[0;32mfor\u001b[0m \u001b[0mdirname\u001b[0m \u001b[0;32min\u001b[0m \u001b[0margs\u001b[0m\u001b[0;34m:\u001b[0m\u001b[0;34m\u001b[0m\u001b[0m\n\u001b[0;32m---> 66\u001b[0;31m       \u001b[0mpaths\u001b[0m\u001b[0;34m.\u001b[0m\u001b[0mextend\u001b[0m\u001b[0;34m(\u001b[0m\u001b[0mget_special_paths\u001b[0m\u001b[0;34m(\u001b[0m\u001b[0mdirname\u001b[0m\u001b[0;34m)\u001b[0m\u001b[0;34m)\u001b[0m\u001b[0;34m\u001b[0m\u001b[0m\n\u001b[0m\u001b[1;32m     67\u001b[0m   \u001b[0;31m# +++your code here+++\u001b[0m\u001b[0;34m\u001b[0m\u001b[0;34m\u001b[0m\u001b[0m\n\u001b[1;32m     68\u001b[0m   \u001b[0;31m# Call your functions\u001b[0m\u001b[0;34m\u001b[0m\u001b[0;34m\u001b[0m\u001b[0m\n",
        "\u001b[0;32m<ipython-input-35-7c0b164f6d5c>\u001b[0m in \u001b[0;36mget_special_paths\u001b[0;34m(src_dir)\u001b[0m\n\u001b[1;32m     19\u001b[0m \u001b[0;31m# Write functions and modify main() to call them\u001b[0m\u001b[0;34m\u001b[0m\u001b[0;34m\u001b[0m\u001b[0m\n\u001b[1;32m     20\u001b[0m \u001b[0;32mdef\u001b[0m \u001b[0mget_special_paths\u001b[0m\u001b[0;34m(\u001b[0m\u001b[0msrc_dir\u001b[0m\u001b[0;34m)\u001b[0m\u001b[0;34m:\u001b[0m\u001b[0;34m\u001b[0m\u001b[0m\n\u001b[0;32m---> 21\u001b[0;31m     \u001b[0mfiles\u001b[0m \u001b[0;34m=\u001b[0m \u001b[0mos\u001b[0m\u001b[0;34m.\u001b[0m\u001b[0mlistdir\u001b[0m\u001b[0;34m(\u001b[0m\u001b[0msrc_dir\u001b[0m\u001b[0;34m)\u001b[0m\u001b[0;34m\u001b[0m\u001b[0m\n\u001b[0m\u001b[1;32m     22\u001b[0m     \u001b[0mspecial_files\u001b[0m \u001b[0;34m=\u001b[0m \u001b[0;34m[\u001b[0m\u001b[0mos\u001b[0m\u001b[0;34m.\u001b[0m\u001b[0mjoins\u001b[0m\u001b[0;34m(\u001b[0m\u001b[0msrc_dir\u001b[0m\u001b[0;34m,\u001b[0m\u001b[0mf\u001b[0m\u001b[0;34m)\u001b[0m \u001b[0;32mfor\u001b[0m \u001b[0mf\u001b[0m \u001b[0;32min\u001b[0m \u001b[0mfiles\u001b[0m \u001b[0;32mif\u001b[0m \u001b[0mre\u001b[0m\u001b[0;34m.\u001b[0m\u001b[0msearch\u001b[0m\u001b[0;34m(\u001b[0m\u001b[0;34mr'__w+__'\u001b[0m\u001b[0;34m,\u001b[0m\u001b[0mf\u001b[0m\u001b[0;34m)\u001b[0m\u001b[0;34m.\u001b[0m\u001b[0mgroups\u001b[0m\u001b[0;34m(\u001b[0m\u001b[0;34m)\u001b[0m \u001b[0;34m]\u001b[0m\u001b[0;34m\u001b[0m\u001b[0m\n\u001b[1;32m     23\u001b[0m     \u001b[0;32mfor\u001b[0m \u001b[0mf\u001b[0m \u001b[0;32min\u001b[0m \u001b[0mspecial_files\u001b[0m\u001b[0;34m:\u001b[0m\u001b[0;32mprint\u001b[0m \u001b[0mspecial_files\u001b[0m\u001b[0;34m,\u001b[0m\u001b[0;34m\u001b[0m\u001b[0m\n",
        "\u001b[0;31mOSError\u001b[0m: [Errno 2] No such file or directory: '-f'"
       ]
      },
      {
       "output_type": "stream",
       "stream": "stdout",
       "text": [
        "['-f', '/Users/Mia/.ipython/profile_default/security/kernel-c6819bf0-5407-42f3-9c61-26972747df83.json', \"--IPKernelApp.parent_appname='ipython-notebook'\", '--profile-dir', '/Users/Mia/.ipython/profile_default', '--parent=1']\n"
       ]
      }
     ],
     "prompt_number": 35
    },
    {
     "cell_type": "code",
     "collapsed": false,
     "input": [
      "%run solution/copyspecial.py ."
     ],
     "language": "python",
     "metadata": {},
     "outputs": [
      {
       "output_type": "stream",
       "stream": "stdout",
       "text": [
        "/Users/Mia/Downloads/google-python-exercises/copyspecial/xyz__hello__.txt\n",
        "/Users/Mia/Downloads/google-python-exercises/copyspecial/zz__something__.jpg\n"
       ]
      }
     ],
     "prompt_number": 38
    },
    {
     "cell_type": "code",
     "collapsed": false,
     "input": [
      "#!/usr/bin/python\n",
      "# Copyright 2010 Google Inc.\n",
      "# Licensed under the Apache License, Version 2.0\n",
      "# http://www.apache.org/licenses/LICENSE-2.0\n",
      "\n",
      "# Google's Python Class\n",
      "# http://code.google.com/edu/languages/google-python-class/\n",
      "\n",
      "import sys\n",
      "import re\n",
      "import os\n",
      "import shutil\n",
      "import commands\n",
      "\n",
      "\"\"\"Copy Special exercise\n",
      "\"\"\"\n",
      "\n",
      "# +++your code here+++\n",
      "# Write functions and modify main() to call them\n",
      "\n",
      "# LAB(begin solution)\n",
      "def get_special_paths(dirname):\n",
      "  \"\"\"Given a dirname, returns a list of all its special files.\"\"\"\n",
      "  result = []\n",
      "  paths = os.listdir(dirname)  # list of paths in that dir\n",
      "  for fname in paths:\n",
      "    match = re.search(r'__(\\w+)__', fname)\n",
      "    if match:\n",
      "      result.append(os.path.abspath(os.path.join(dirname, fname)))\n",
      "  return result\n",
      "\n",
      "\n",
      "def copy_to(paths, to_dir):\n",
      "  \"\"\"Copy all of the given files to the given dir, creating it if necessary.\"\"\"\n",
      "  if not os.path.exists(to_dir):\n",
      "    os.mkdir(to_dir)\n",
      "  for path in paths:\n",
      "    fname = os.path.basename(path)\n",
      "    shutil.copy(path, os.path.join(to_dir, fname))\n",
      "    # could error out if already exists os.path.exists():\n",
      "\n",
      "\n",
      "def zip_to(paths, zipfile):\n",
      "  \"\"\"Zip up all of the given files into a new zip file with the given name.\"\"\"\n",
      "  cmd = 'zip -j ' + zipfile + ' ' + ' '.join(paths)\n",
      "  print \"Command I'm going to do:\" + cmd\n",
      "  (status, output) = commands.getstatusoutput(cmd)\n",
      "  # If command had a problem (status is non-zero),\n",
      "  # print its output to stderr and exit.\n",
      "  if status:\n",
      "    sys.stderr.write(output)\n",
      "    sys.exit(1)\n",
      "\n",
      "# LAB(end solution)\n",
      "\n",
      "\n",
      "def main():\n",
      "  # This basic command line argument parsing code is provided.\n",
      "  # Add code to call your functions below.\n",
      "\n",
      "  # Make a list of command line arguments, omitting the [0] element\n",
      "  # which is the script itself.\n",
      "  args = sys.argv[1:]\n",
      "  print args\n",
      "  if not args:\n",
      "    print \"usage: [--todir dir][--tozip zipfile] dir [dir ...]\";\n",
      "    sys.exit(1)\n",
      "\n",
      "  # todir and tozip are either set from command line\n",
      "  # or left as the empty string.\n",
      "  # The args array is left just containing the dirs.\n",
      "  todir = ''\n",
      "  if args[0] == '--todir':\n",
      "    todir = args[1]\n",
      "    del args[0:2]\n",
      "\n",
      "  tozip = ''\n",
      "  if args[0] == '--tozip':\n",
      "    tozip = args[1]\n",
      "    del args[0:2]\n",
      "\n",
      "  if len(args) == 0:\n",
      "    print \"error: must specify one or more dirs\"\n",
      "    sys.exit(1)\n",
      "\n",
      "  # +++your code here+++\n",
      "  # Call your functions\n",
      "  # LAB(begin solution)\n",
      "\n",
      "  # Gather all the special files\n",
      "  paths = []\n",
      "  for dirname in args:\n",
      "    paths.extend(get_special_paths(dirname))\n",
      "\n",
      "  if todir:\n",
      "    copy_to(paths, todir)\n",
      "  elif tozip:\n",
      "    zip_to(paths, tozip)\n",
      "  else:\n",
      "    print '\\n'.join(paths)\n",
      "  # LAB(end solution)\n",
      "\n",
      "if __name__ == \"__main__\":\n",
      "  main()\n"
     ],
     "language": "python",
     "metadata": {},
     "outputs": [
      {
       "ename": "OSError",
       "evalue": "[Errno 2] No such file or directory: '-f'",
       "output_type": "pyerr",
       "traceback": [
        "\u001b[0;31m---------------------------------------------------------------------------\u001b[0m\n\u001b[0;31mOSError\u001b[0m                                   Traceback (most recent call last)",
        "\u001b[0;32m<ipython-input-37-fe41776676d2>\u001b[0m in \u001b[0;36m<module>\u001b[0;34m()\u001b[0m\n\u001b[1;32m    102\u001b[0m \u001b[0;34m\u001b[0m\u001b[0m\n\u001b[1;32m    103\u001b[0m \u001b[0;32mif\u001b[0m \u001b[0m__name__\u001b[0m \u001b[0;34m==\u001b[0m \u001b[0;34m\"__main__\"\u001b[0m\u001b[0;34m:\u001b[0m\u001b[0;34m\u001b[0m\u001b[0m\n\u001b[0;32m--> 104\u001b[0;31m   \u001b[0mmain\u001b[0m\u001b[0;34m(\u001b[0m\u001b[0;34m)\u001b[0m\u001b[0;34m\u001b[0m\u001b[0m\n\u001b[0m",
        "\u001b[0;32m<ipython-input-37-fe41776676d2>\u001b[0m in \u001b[0;36mmain\u001b[0;34m()\u001b[0m\n\u001b[1;32m     91\u001b[0m   \u001b[0mpaths\u001b[0m \u001b[0;34m=\u001b[0m \u001b[0;34m[\u001b[0m\u001b[0;34m]\u001b[0m\u001b[0;34m\u001b[0m\u001b[0m\n\u001b[1;32m     92\u001b[0m   \u001b[0;32mfor\u001b[0m \u001b[0mdirname\u001b[0m \u001b[0;32min\u001b[0m \u001b[0margs\u001b[0m\u001b[0;34m:\u001b[0m\u001b[0;34m\u001b[0m\u001b[0m\n\u001b[0;32m---> 93\u001b[0;31m     \u001b[0mpaths\u001b[0m\u001b[0;34m.\u001b[0m\u001b[0mextend\u001b[0m\u001b[0;34m(\u001b[0m\u001b[0mget_special_paths\u001b[0m\u001b[0;34m(\u001b[0m\u001b[0mdirname\u001b[0m\u001b[0;34m)\u001b[0m\u001b[0;34m)\u001b[0m\u001b[0;34m\u001b[0m\u001b[0m\n\u001b[0m\u001b[1;32m     94\u001b[0m \u001b[0;34m\u001b[0m\u001b[0m\n\u001b[1;32m     95\u001b[0m   \u001b[0;32mif\u001b[0m \u001b[0mtodir\u001b[0m\u001b[0;34m:\u001b[0m\u001b[0;34m\u001b[0m\u001b[0m\n",
        "\u001b[0;32m<ipython-input-37-fe41776676d2>\u001b[0m in \u001b[0;36mget_special_paths\u001b[0;34m(dirname)\u001b[0m\n\u001b[1;32m     23\u001b[0m   \u001b[0;34m\"\"\"Given a dirname, returns a list of all its special files.\"\"\"\u001b[0m\u001b[0;34m\u001b[0m\u001b[0m\n\u001b[1;32m     24\u001b[0m   \u001b[0mresult\u001b[0m \u001b[0;34m=\u001b[0m \u001b[0;34m[\u001b[0m\u001b[0;34m]\u001b[0m\u001b[0;34m\u001b[0m\u001b[0m\n\u001b[0;32m---> 25\u001b[0;31m   \u001b[0mpaths\u001b[0m \u001b[0;34m=\u001b[0m \u001b[0mos\u001b[0m\u001b[0;34m.\u001b[0m\u001b[0mlistdir\u001b[0m\u001b[0;34m(\u001b[0m\u001b[0mdirname\u001b[0m\u001b[0;34m)\u001b[0m  \u001b[0;31m# list of paths in that dir\u001b[0m\u001b[0;34m\u001b[0m\u001b[0m\n\u001b[0m\u001b[1;32m     26\u001b[0m   \u001b[0;32mfor\u001b[0m \u001b[0mfname\u001b[0m \u001b[0;32min\u001b[0m \u001b[0mpaths\u001b[0m\u001b[0;34m:\u001b[0m\u001b[0;34m\u001b[0m\u001b[0m\n\u001b[1;32m     27\u001b[0m     \u001b[0mmatch\u001b[0m \u001b[0;34m=\u001b[0m \u001b[0mre\u001b[0m\u001b[0;34m.\u001b[0m\u001b[0msearch\u001b[0m\u001b[0;34m(\u001b[0m\u001b[0;34mr'__(\\w+)__'\u001b[0m\u001b[0;34m,\u001b[0m \u001b[0mfname\u001b[0m\u001b[0;34m)\u001b[0m\u001b[0;34m\u001b[0m\u001b[0m\n",
        "\u001b[0;31mOSError\u001b[0m: [Errno 2] No such file or directory: '-f'"
       ]
      },
      {
       "output_type": "stream",
       "stream": "stdout",
       "text": [
        "['-f', '/Users/Mia/.ipython/profile_default/security/kernel-c6819bf0-5407-42f3-9c61-26972747df83.json', \"--IPKernelApp.parent_appname='ipython-notebook'\", '--profile-dir', '/Users/Mia/.ipython/profile_default', '--parent=1']\n"
       ]
      }
     ],
     "prompt_number": 37
    },
    {
     "cell_type": "code",
     "collapsed": false,
     "input": [
      "%pylab inline\n",
      "data=np.genfromtxt('/Users/Mia/Documents/Work/WgZgPhysics/Analysis/WgTemplates/test/Mjj400_wgvbs_weight.csv')"
     ],
     "language": "python",
     "metadata": {},
     "outputs": []
    },
    {
     "cell_type": "code",
     "collapsed": false,
     "input": [
      "print sum(data)"
     ],
     "language": "python",
     "metadata": {},
     "outputs": [
      {
       "output_type": "stream",
       "stream": "stdout",
       "text": [
        "nan\n"
       ]
      }
     ],
     "prompt_number": 9
    },
    {
     "cell_type": "code",
     "collapsed": false,
     "input": [],
     "language": "python",
     "metadata": {},
     "outputs": []
    }
   ],
   "metadata": {}
  }
 ]
}