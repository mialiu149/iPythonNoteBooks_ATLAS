{
 "metadata": {
  "name": ""
 },
 "nbformat": 3,
 "nbformat_minor": 0,
 "worksheets": [
  {
   "cells": [
    {
     "cell_type": "code",
     "collapsed": false,
     "input": [
      "from rootpy.plotting import Canvas\n",
      "from rootpy.tree import Tree\n",
      "from rootpy.io import root_open\n",
      "from rootpy.testdata import get_file\n",
      "from rootpy.plotting import hist\n",
      "%pylab inline\n",
      "#f = root_open(\"/Users/Mia/Documents/TRTAging/StrawAging2013/trunk/figures_pdf/LumSlice_High/root_files/Aging_NoMuMatch_PerB_cut_plots_LumSlice.root\", \"read\")\n",
      "#for k in f.GetListOfKeys():\n",
      "#    print k"
     ],
     "language": "python",
     "metadata": {},
     "outputs": [
      {
       "output_type": "stream",
       "stream": "stdout",
       "text": [
        "Populating the interactive namespace from numpy and matplotlib\n"
       ]
      },
      {
       "output_type": "stream",
       "stream": "stderr",
       "text": [
        "WARNING: pylab import has clobbered these variables: ['hist']\n",
        "`%pylab --no-import-all` prevents importing * from pylab and numpy\n"
       ]
      }
     ],
     "prompt_number": 2
    },
    {
     "cell_type": "code",
     "collapsed": false,
     "input": [
      "#for k in f.GetListOfKeys():\n",
      "#    print k\n",
      "#with root_open(\"/Users/Mia/Documents/TRTAging/StrawAging2013/trunk/figures_pdf/LumSlice_Low/root_files/Aging_NoMuMatch_PerB_LowLum_cut_plots_LumSliceBarrel.root\")\n",
      "#as f:\n",
      "c1 = rootnotes.default_canvas()\n",
      "decpart=['L1','L2','L3','EAA','EAB','ECA','ECB']\n",
      "lumiblocks=[]\n",
      "lowlumi={'L1':[],'L2':[],'L3':[],'L1e':[],'L2e':[],'L3e':[],'EAA':[],'EAB':[],'ECA':[],'ECB':[],'EAAe':[],'EABe':[],'ECAe':[],'ECBe':[]}\n",
      "highlumi={'L1':[],'L2':[],'L3':[],'L1e':[],'L2e':[],'L3e':[],'EAA':[],'EAB':[],'ECA':[],'ECB':[],'EAAe':[],'EABe':[],'ECAe':[],'ECBe':[]}\n",
      "x=np.linspace(0,7,num=8)\n",
      "\n",
      "#ls /Users/Mia/Documents/TRTAging/StrawAging2013/trunk/figures_pdf/LumSlice_Low/root_files/Aging_NoMuMatch_PerB_LowLum_cut_plots_LumSliceBarrel.root\n",
      "for i in range(8):\n",
      "    lbn='Lum'+str(i)\n",
      "    lumiblocks.append(lbn)\n",
      "for lum in ['Low','High']:\n",
      "    with root_open(\"/Users/Mia/Documents/Work/TRTAging/StrawAging2013/trunk/figures_pdf/LumSlice_\"+lum+\"/root_files/Aging_NoMuMatch_PerB_cut_plots_LumSlice.root\") as f:\n",
      "         for dec in decpart:\n",
      "             for lbn in lumiblocks:\n",
      "                 if decpart.index(dec) < 3:\n",
      "                    h = f.Get('effave_'+dec+'_'+lbn)\n",
      "                 else: \n",
      "                    h = f.Get('effave_'+str(decpart.index(dec)-3)+'_'+lbn)\n",
      "                 fit = h.GetFunction('feffave')\n",
      "                 if lum is 'Low':\n",
      "                    lowlumi[dec].append(fit.GetParameter(1)*10e5)\n",
      "                    lowlumi[dec+'e'].append(fit.GetParError(1)*10e5)\n",
      "                 else:\n",
      "                    highlumi[dec].append(fit.GetParameter(1)*10e5)\n",
      "                    highlumi[dec+'e'].append(fit.GetParError(1)*10e5)\n",
      "\n",
      "\n",
      "for dec in decpart[3:8]:\n",
      "    errorbar(x,lowlumi[dec],yerr=lowlumi[dec+'e'],fmt='-o',label=dec+' LowLumi')\n",
      "    errorbar(x,highlumi[dec],yerr=highlumi[dec+'e'],fmt='--o',label=dec+' HighLumi')\n",
      "#set?\n",
      "legend(loc=0,bbox_to_anchor = (0.9, 0.7),fontsize=8,title='EndCap')\n",
      "\n",
      "Figure1=figure(1);clf;\n",
      "#xlabel('$\\delta$');\n",
      "#ylabel('$\\epsilon$');\n",
      "xlim(-1,8)\n",
      "xlabel('Integrated luminosity within a run, $ 10^{7}\\mu b^{-1}$ ')\n",
      "ylabel('Fitted slope value,10e-5')\n",
      "savefig('/Users/Mia/Documents/TRTAging/StrawAging2013/trunk/figures_pdf/LumiHighVsLowEndCap.pdf')"
     ],
     "language": "python",
     "metadata": {},
     "outputs": [
      {
       "ename": "NameError",
       "evalue": "name 'rootnotes' is not defined",
       "output_type": "pyerr",
       "traceback": [
        "\u001b[0;31m---------------------------------------------------------------------------\u001b[0m\n\u001b[0;31mNameError\u001b[0m                                 Traceback (most recent call last)",
        "\u001b[0;32m<ipython-input-3-ba8f2e904883>\u001b[0m in \u001b[0;36m<module>\u001b[0;34m()\u001b[0m\n\u001b[1;32m      3\u001b[0m \u001b[0;31m#with root_open(\"/Users/Mia/Documents/TRTAging/StrawAging2013/trunk/figures_pdf/LumSlice_Low/root_files/Aging_NoMuMatch_PerB_LowLum_cut_plots_LumSliceBarrel.root\")\u001b[0m\u001b[0;34m\u001b[0m\u001b[0;34m\u001b[0m\u001b[0m\n\u001b[1;32m      4\u001b[0m \u001b[0;31m#as f:\u001b[0m\u001b[0;34m\u001b[0m\u001b[0;34m\u001b[0m\u001b[0m\n\u001b[0;32m----> 5\u001b[0;31m \u001b[0mc1\u001b[0m \u001b[0;34m=\u001b[0m \u001b[0mrootnotes\u001b[0m\u001b[0;34m.\u001b[0m\u001b[0mdefault_canvas\u001b[0m\u001b[0;34m(\u001b[0m\u001b[0;34m)\u001b[0m\u001b[0;34m\u001b[0m\u001b[0m\n\u001b[0m\u001b[1;32m      6\u001b[0m \u001b[0mdecpart\u001b[0m\u001b[0;34m=\u001b[0m\u001b[0;34m[\u001b[0m\u001b[0;34m'L1'\u001b[0m\u001b[0;34m,\u001b[0m\u001b[0;34m'L2'\u001b[0m\u001b[0;34m,\u001b[0m\u001b[0;34m'L3'\u001b[0m\u001b[0;34m,\u001b[0m\u001b[0;34m'EAA'\u001b[0m\u001b[0;34m,\u001b[0m\u001b[0;34m'EAB'\u001b[0m\u001b[0;34m,\u001b[0m\u001b[0;34m'ECA'\u001b[0m\u001b[0;34m,\u001b[0m\u001b[0;34m'ECB'\u001b[0m\u001b[0;34m]\u001b[0m\u001b[0;34m\u001b[0m\u001b[0m\n\u001b[1;32m      7\u001b[0m \u001b[0mlumiblocks\u001b[0m\u001b[0;34m=\u001b[0m\u001b[0;34m[\u001b[0m\u001b[0;34m]\u001b[0m\u001b[0;34m\u001b[0m\u001b[0m\n",
        "\u001b[0;31mNameError\u001b[0m: name 'rootnotes' is not defined"
       ]
      }
     ],
     "prompt_number": 3
    },
    {
     "cell_type": "code",
     "collapsed": false,
     "input": [
      "base='/Users/Mia/Documents/TRTAging/StrawAging2013/trunk/'\n",
      "location=base+'figures_pdf/Barrel/root_files/LumSlice/'\n",
      "Periods=['A', 'B', 'C', 'D', 'E','G','H','I','J']\n",
      "files=map(lambda x:location+'Aging_Per'+x+'_NoMuMatch_plots_LumSliceBarrel.root',Periods)\n",
      "barrel=['L1','L2','L3']\n",
      "endcap=['EAA','EAB','ECA','ECB']\n",
      "intlumi = [0.84,6.14,7.58,10.99,13.6,14.9,16.47,17.526,19.16]\n",
      "\n",
      "#barrelslopes=dict.fromkeys(barrel+map(lambda x:x+'e',barrel),[])\n",
      "#endcapslopes=dict.fromkeys(endcap+map(lambda x:x+'e',endcap),[])\n",
      "barrelslopes={'L1':[],'L2':[],'L3':[],'L1e':[],'L2e':[],'L3e':[]}\n",
      "endcapslopes={'EAA':[],'EAB':[],'ECA':[],'ECB':[],'EAAe':[],'EABe':[],'ECAe':[],'ECBe':[]}\n",
      "#print barrelslopes,endcapslopes\n",
      "for file in files:\n",
      "    #print file\n",
      "    with root_open(file) as f:\n",
      "         for layer in barrel:\n",
      "             h = f.Get('effave_'+layer+'_Lum0')\n",
      "             fit = h.GetFunction('feffave')\n",
      "             barrelslopes[layer].append(fit.GetParameter(1)*10e5)\n",
      "             barrelslopes[layer+'e'].append(fit.GetParError(1)*10e5)\n",
      "#print barrelslopes\n",
      "for layer in barrel:\n",
      "    errorbar(intlumi,barrelslopes[layer],yerr=barrelslopes[layer+'e'],fmt='-o',label=layer)\n",
      "legend(loc=0,bbox_to_anchor = (0.9, 0.7),fontsize=8,title='Barrel')\n",
      "xlabel('Integrated luminosity in 2012, $fb^{-1}$ ')\n",
      "ylabel('Fitted slope value (e-5/mm)')\n",
      "title('Slope change for 2012 data,first $ 10^{7}\\mu b^{-1}$ from each run')\n",
      "savefig('/Users/Mia/Documents/TRTAging/StrawAging2013/trunk/figures_pdf/SlopeChangeLumiBlock0Barrel.pdf')\n"
     ],
     "language": "python",
     "metadata": {},
     "outputs": [
      {
       "output_type": "stream",
       "stream": "stderr",
       "text": [
        "INFO:rootpy.logger] | No default log handler configured. See `logging` module |\n"
       ]
      },
      {
       "output_type": "stream",
       "stream": "stderr",
       "text": [
        "INFO:rootpy.logger] \\    To suppress: 'rootpy.log.basic_config_colorized()'   /\n"
       ]
      },
      {
       "output_type": "stream",
       "stream": "stderr",
       "text": [
        "ERROR:ROOT.TFile.TFile] file /Users/Mia/Documents/TRTAging/StrawAging2013/trunk/figures_pdf/Barrel/root_files/LumSlice/Aging_PerA_NoMuMatch_plots_LumSliceBarrel.root does not exist\n"
       ]
      },
      {
       "ename": "ROOTError",
       "evalue": "level=3000, loc='TFile::TFile', msg='file /Users/Mia/Documents/TRTAging/StrawAging2013/trunk/figures_pdf/Barrel/root_files/LumSlice/Aging_PerA_NoMuMatch_plots_LumSliceBarrel.root does not exist'",
       "output_type": "pyerr",
       "traceback": [
        "\u001b[0;31m---------------------------------------------------------------------------\u001b[0m\n\u001b[0;31mROOTError\u001b[0m                                 Traceback (most recent call last)",
        "\u001b[0;32m<ipython-input-4-99d3111a6275>\u001b[0m in \u001b[0;36m<module>\u001b[0;34m()\u001b[0m\n\u001b[1;32m     14\u001b[0m \u001b[0;32mfor\u001b[0m \u001b[0mfile\u001b[0m \u001b[0;32min\u001b[0m \u001b[0mfiles\u001b[0m\u001b[0;34m:\u001b[0m\u001b[0;34m\u001b[0m\u001b[0m\n\u001b[1;32m     15\u001b[0m     \u001b[0;31m#print file\u001b[0m\u001b[0;34m\u001b[0m\u001b[0;34m\u001b[0m\u001b[0m\n\u001b[0;32m---> 16\u001b[0;31m     \u001b[0;32mwith\u001b[0m \u001b[0mroot_open\u001b[0m\u001b[0;34m(\u001b[0m\u001b[0mfile\u001b[0m\u001b[0;34m)\u001b[0m \u001b[0;32mas\u001b[0m \u001b[0mf\u001b[0m\u001b[0;34m:\u001b[0m\u001b[0;34m\u001b[0m\u001b[0m\n\u001b[0m\u001b[1;32m     17\u001b[0m          \u001b[0;32mfor\u001b[0m \u001b[0mlayer\u001b[0m \u001b[0;32min\u001b[0m \u001b[0mbarrel\u001b[0m\u001b[0;34m:\u001b[0m\u001b[0;34m\u001b[0m\u001b[0m\n\u001b[1;32m     18\u001b[0m              \u001b[0mh\u001b[0m \u001b[0;34m=\u001b[0m \u001b[0mf\u001b[0m\u001b[0;34m.\u001b[0m\u001b[0mGet\u001b[0m\u001b[0;34m(\u001b[0m\u001b[0;34m'effave_'\u001b[0m\u001b[0;34m+\u001b[0m\u001b[0mlayer\u001b[0m\u001b[0;34m+\u001b[0m\u001b[0;34m'_Lum0'\u001b[0m\u001b[0;34m)\u001b[0m\u001b[0;34m\u001b[0m\u001b[0m\n",
        "\u001b[0;32m//anaconda/lib/python2.7/site-packages/rootpy-dev-py2.7.egg/rootpy/io/file.pyc\u001b[0m in \u001b[0;36mroot_open\u001b[0;34m(filename, mode)\u001b[0m\n\u001b[1;32m    125\u001b[0m     \u001b[0mfilename\u001b[0m \u001b[0;34m=\u001b[0m \u001b[0mexpand_path\u001b[0m\u001b[0;34m(\u001b[0m\u001b[0mfilename\u001b[0m\u001b[0;34m)\u001b[0m\u001b[0;34m\u001b[0m\u001b[0m\n\u001b[1;32m    126\u001b[0m     \u001b[0mprev_dir\u001b[0m \u001b[0;34m=\u001b[0m \u001b[0mROOT\u001b[0m\u001b[0;34m.\u001b[0m\u001b[0mgDirectory\u001b[0m\u001b[0;34m.\u001b[0m\u001b[0mfunc\u001b[0m\u001b[0;34m(\u001b[0m\u001b[0;34m)\u001b[0m\u001b[0;34m\u001b[0m\u001b[0m\n\u001b[0;32m--> 127\u001b[0;31m     \u001b[0mroot_file\u001b[0m \u001b[0;34m=\u001b[0m \u001b[0mROOT\u001b[0m\u001b[0;34m.\u001b[0m\u001b[0mR\u001b[0m\u001b[0;34m.\u001b[0m\u001b[0mTFile\u001b[0m\u001b[0;34m.\u001b[0m\u001b[0mOpen\u001b[0m\u001b[0;34m(\u001b[0m\u001b[0mfilename\u001b[0m\u001b[0;34m,\u001b[0m \u001b[0mmode\u001b[0m\u001b[0;34m)\u001b[0m\u001b[0;34m\u001b[0m\u001b[0m\n\u001b[0m\u001b[1;32m    128\u001b[0m     \u001b[0;32mif\u001b[0m \u001b[0;32mnot\u001b[0m \u001b[0mroot_file\u001b[0m\u001b[0;34m:\u001b[0m\u001b[0;34m\u001b[0m\u001b[0m\n\u001b[1;32m    129\u001b[0m         \u001b[0;32mraise\u001b[0m \u001b[0mIOError\u001b[0m\u001b[0;34m(\u001b[0m\u001b[0;34m\"could not open file: '{0}'\"\u001b[0m\u001b[0;34m.\u001b[0m\u001b[0mformat\u001b[0m\u001b[0;34m(\u001b[0m\u001b[0mfilename\u001b[0m\u001b[0;34m)\u001b[0m\u001b[0;34m)\u001b[0m\u001b[0;34m\u001b[0m\u001b[0m\n",
        "\u001b[0;32m//anaconda/lib/python2.7/site-packages/rootpy-dev-py2.7.egg/rootpy/io/file.pyc\u001b[0m in \u001b[0;36mroot_open\u001b[0;34m(filename, mode)\u001b[0m\n\u001b[1;32m    125\u001b[0m     \u001b[0mfilename\u001b[0m \u001b[0;34m=\u001b[0m \u001b[0mexpand_path\u001b[0m\u001b[0;34m(\u001b[0m\u001b[0mfilename\u001b[0m\u001b[0;34m)\u001b[0m\u001b[0;34m\u001b[0m\u001b[0m\n\u001b[1;32m    126\u001b[0m     \u001b[0mprev_dir\u001b[0m \u001b[0;34m=\u001b[0m \u001b[0mROOT\u001b[0m\u001b[0;34m.\u001b[0m\u001b[0mgDirectory\u001b[0m\u001b[0;34m.\u001b[0m\u001b[0mfunc\u001b[0m\u001b[0;34m(\u001b[0m\u001b[0;34m)\u001b[0m\u001b[0;34m\u001b[0m\u001b[0m\n\u001b[0;32m--> 127\u001b[0;31m     \u001b[0mroot_file\u001b[0m \u001b[0;34m=\u001b[0m \u001b[0mROOT\u001b[0m\u001b[0;34m.\u001b[0m\u001b[0mR\u001b[0m\u001b[0;34m.\u001b[0m\u001b[0mTFile\u001b[0m\u001b[0;34m.\u001b[0m\u001b[0mOpen\u001b[0m\u001b[0;34m(\u001b[0m\u001b[0mfilename\u001b[0m\u001b[0;34m,\u001b[0m \u001b[0mmode\u001b[0m\u001b[0;34m)\u001b[0m\u001b[0;34m\u001b[0m\u001b[0m\n\u001b[0m\u001b[1;32m    128\u001b[0m     \u001b[0;32mif\u001b[0m \u001b[0;32mnot\u001b[0m \u001b[0mroot_file\u001b[0m\u001b[0;34m:\u001b[0m\u001b[0;34m\u001b[0m\u001b[0m\n\u001b[1;32m    129\u001b[0m         \u001b[0;32mraise\u001b[0m \u001b[0mIOError\u001b[0m\u001b[0;34m(\u001b[0m\u001b[0;34m\"could not open file: '{0}'\"\u001b[0m\u001b[0;34m.\u001b[0m\u001b[0mformat\u001b[0m\u001b[0;34m(\u001b[0m\u001b[0mfilename\u001b[0m\u001b[0;34m)\u001b[0m\u001b[0;34m)\u001b[0m\u001b[0;34m\u001b[0m\u001b[0m\n",
        "\u001b[0;32m//anaconda/lib/python2.7/site-packages/rootpy-dev-py2.7.egg/rootpy/logger/roothandler.pyc\u001b[0m in \u001b[0;36mpython_logging_error_handler\u001b[0;34m(level, root_says_abort, location, msg)\u001b[0m\n\u001b[1;32m    100\u001b[0m             \u001b[0;31m# Hence the need for dark magic, we re-raise it within a trace.\u001b[0m\u001b[0;34m\u001b[0m\u001b[0;34m\u001b[0m\u001b[0m\n\u001b[1;32m    101\u001b[0m             \u001b[0;32mfrom\u001b[0m \u001b[0;34m.\u001b[0m\u001b[0;34m.\u001b[0m \u001b[0;32mimport\u001b[0m \u001b[0mROOTError\u001b[0m\u001b[0;34m\u001b[0m\u001b[0m\n\u001b[0;32m--> 102\u001b[0;31m             \u001b[0;32mraise\u001b[0m \u001b[0mROOTError\u001b[0m\u001b[0;34m(\u001b[0m\u001b[0mlevel\u001b[0m\u001b[0;34m,\u001b[0m \u001b[0mlocation\u001b[0m\u001b[0;34m,\u001b[0m \u001b[0mmsg\u001b[0m\u001b[0;34m)\u001b[0m\u001b[0;34m\u001b[0m\u001b[0m\n\u001b[0m\u001b[1;32m    103\u001b[0m         \u001b[0;32mexcept\u001b[0m \u001b[0mRuntimeError\u001b[0m\u001b[0;34m:\u001b[0m\u001b[0;34m\u001b[0m\u001b[0m\n\u001b[1;32m    104\u001b[0m             \u001b[0m_\u001b[0m\u001b[0;34m,\u001b[0m \u001b[0mexc\u001b[0m\u001b[0;34m,\u001b[0m \u001b[0mtraceback\u001b[0m \u001b[0;34m=\u001b[0m \u001b[0msys\u001b[0m\u001b[0;34m.\u001b[0m\u001b[0mexc_info\u001b[0m\u001b[0;34m(\u001b[0m\u001b[0;34m)\u001b[0m\u001b[0;34m\u001b[0m\u001b[0m\n",
        "\u001b[0;31mROOTError\u001b[0m: level=3000, loc='TFile::TFile', msg='file /Users/Mia/Documents/TRTAging/StrawAging2013/trunk/figures_pdf/Barrel/root_files/LumSlice/Aging_PerA_NoMuMatch_plots_LumSliceBarrel.root does not exist'"
       ]
      }
     ],
     "prompt_number": 4
    },
    {
     "cell_type": "code",
     "collapsed": false,
     "input": [
      "base='/Users/Mia/Documents/TRTAging/StrawAging2013/trunk/'\n",
      "location=base+'figures_pdf/Endcap/root_files/LumSlice/'\n",
      "Periods=['A', 'B', 'C', 'D', 'E','G','H','I','J']\n",
      "files=map(lambda x:location+'Aging_Per'+x+'_NoMuMatch_plots_LumSliceEC.root',Periods)\n",
      "barrel=['L1','L2','L3']\n",
      "endcap=['EAA','EAB','ECA','ECB']\n",
      "intlumi = [0.84,6.14,7.58,10.99,13.6,14.9,16.47,17.526,19.16]\n",
      "\n",
      "#barrelslopes=dict.fromkeys(barrel+map(lambda x:x+'e',barrel),[])\n",
      "#endcapslopes=dict.fromkeys(endcap+map(lambda x:x+'e',endcap),[])\n",
      "barrelslopes={'L1':[],'L2':[],'L3':[],'L1e':[],'L2e':[],'L3e':[]}\n",
      "endcapslopes={'EAA':[],'EAB':[],'ECA':[],'ECB':[],'EAAe':[],'EABe':[],'ECAe':[],'ECBe':[]}\n",
      "#print barrelslopes,endcapslopes\n",
      "for file in files:\n",
      "    #print file\n",
      "    with root_open(file) as f:\n",
      "         for layer in endcap:\n",
      "             h = f.Get('effave_'+str(endcap.index(layer))+'_Lum0')\n",
      "             fit = h.GetFunction('feffave')\n",
      "             endcapslopes[layer].append(fit.GetParameter(1)*10e5)\n",
      "             endcapslopes[layer+'e'].append(fit.GetParError(1)*10e5)\n",
      "#print barrelslopes\n",
      "for layer in endcap:\n",
      "    errorbar(intlumi,endcapslopes[layer],yerr=endcapslopes[layer+'e'],fmt='-o',label=layer)\n",
      "legend(loc=0,bbox_to_anchor = (0.9, 0.7),fontsize=8,title='Endcap')\n",
      "xlabel('Integrated luminosity in 2012, $fb^{-1}$ ')\n",
      "ylabel('Fitted slope value,10e-5')\n",
      "title('Slope change for 2012 data,first $ 10^{7}\\mu b^{-1}$ from each run')\n",
      "savefig('/Users/Mia/Documents/TRTAging/StrawAging2013/trunk/figures_pdf/SlopeChangeLumiBlock0EndCap.pdf')"
     ],
     "language": "python",
     "metadata": {},
     "outputs": [
      {
       "output_type": "stream",
       "stream": "stderr",
       "text": [
        "WARNING:ROOT.TFile.Write] file /Users/Mia/Documents/TRTAging/StrawAging2013/trunk/figures_pdf/Barrel/root_files/LumSlice/Aging_PerA_NoMuMatch_plots_LumSliceBarrel.root not opened in write mode\n"
       ]
      },
      {
       "output_type": "stream",
       "stream": "stderr",
       "text": [
        "WARNING:ROOT.TFile.Write] file /Users/Mia/Documents/TRTAging/StrawAging2013/trunk/figures_pdf/Barrel/root_files/LumSlice/Aging_PerA_NoMuMatch_plots_LumSliceBarrel.root not opened in write mode\n"
       ]
      },
      {
       "output_type": "stream",
       "stream": "stderr",
       "text": [
        "WARNING:ROOT.TFile.Write] file /Users/Mia/Documents/TRTAging/StrawAging2013/trunk/figures_pdf/Barrel/root_files/LumSlice/Aging_PerA_NoMuMatch_plots_LumSliceBarrel.root not opened in write mode\n"
       ]
      },
      {
       "output_type": "stream",
       "stream": "stderr",
       "text": [
        "WARNING:ROOT.TFile.Write] file /Users/Mia/Documents/TRTAging/StrawAging2013/trunk/figures_pdf/Barrel/root_files/LumSlice/Aging_PerA_NoMuMatch_plots_LumSliceBarrel.root not opened in write mode\n"
       ]
      },
      {
       "output_type": "stream",
       "stream": "stderr",
       "text": [
        "WARNING:ROOT.TFile.Write] file /Users/Mia/Documents/TRTAging/StrawAging2013/trunk/figures_pdf/Barrel/root_files/LumSlice/Aging_PerA_NoMuMatch_plots_LumSliceBarrel.root not opened in write mode\n"
       ]
      },
      {
       "output_type": "stream",
       "stream": "stderr",
       "text": [
        "WARNING:ROOT.TFile.Write] file /Users/Mia/Documents/TRTAging/StrawAging2013/trunk/figures_pdf/Barrel/root_files/LumSlice/Aging_PerA_NoMuMatch_plots_LumSliceBarrel.root not opened in write mode\n"
       ]
      },
      {
       "output_type": "stream",
       "stream": "stderr",
       "text": [
        "WARNING:ROOT.TFile.Write] file /Users/Mia/Documents/TRTAging/StrawAging2013/trunk/figures_pdf/Barrel/root_files/LumSlice/Aging_PerA_NoMuMatch_plots_LumSliceBarrel.root not opened in write mode\n"
       ]
      },
      {
       "output_type": "stream",
       "stream": "stderr",
       "text": [
        "WARNING:ROOT.TFile.Write] file /Users/Mia/Documents/TRTAging/StrawAging2013/trunk/figures_pdf/Barrel/root_files/LumSlice/Aging_PerA_NoMuMatch_plots_LumSliceBarrel.root not opened in write mode\n"
       ]
      },
      {
       "output_type": "stream",
       "stream": "stderr",
       "text": [
        "WARNING:ROOT.TFile.Write] file /Users/Mia/Documents/TRTAging/StrawAging2013/trunk/figures_pdf/Barrel/root_files/LumSlice/Aging_PerA_NoMuMatch_plots_LumSliceBarrel.root not opened in write mode\n"
       ]
      },
      {
       "metadata": {},
       "output_type": "display_data",
       "png": "[encoded data removed]",
       "text": [
        "<matplotlib.figure.Figure at 0x10e337290>"
       ]
      }
     ],
     "prompt_number": 213
    },
    {
     "cell_type": "code",
     "collapsed": false,
     "input": [
      "downloaded=urllib2.urlopen(url + filename)"
     ],
     "language": "python",
     "metadata": {},
     "outputs": [
      {
       "ename": "NameError",
       "evalue": "name 'urllib2' is not defined",
       "output_type": "pyerr",
       "traceback": [
        "\u001b[0;31m---------------------------------------------------------------------------\u001b[0m\n\u001b[0;31mNameError\u001b[0m                                 Traceback (most recent call last)",
        "\u001b[0;32m<ipython-input-50-d99979a41c8b>\u001b[0m in \u001b[0;36m<module>\u001b[0;34m()\u001b[0m\n\u001b[0;32m----> 1\u001b[0;31m \u001b[0mdownloaded\u001b[0m\u001b[0;34m=\u001b[0m\u001b[0murllib2\u001b[0m\u001b[0;34m.\u001b[0m\u001b[0murlopen\u001b[0m\u001b[0;34m(\u001b[0m\u001b[0murl\u001b[0m \u001b[0;34m+\u001b[0m \u001b[0mfilename\u001b[0m\u001b[0;34m)\u001b[0m\u001b[0;34m\u001b[0m\u001b[0m\n\u001b[0m",
        "\u001b[0;31mNameError\u001b[0m: name 'urllib2' is not defined"
       ]
      }
     ],
     "prompt_number": 50
    },
    {
     "cell_type": "code",
     "collapsed": false,
     "input": [
      "folder='data'"
     ],
     "language": "python",
     "metadata": {},
     "outputs": [],
     "prompt_number": 51
    },
    {
     "cell_type": "code",
     "collapsed": false,
     "input": [
      "mkdir $folder"
     ],
     "language": "python",
     "metadata": {},
     "outputs": [
      {
       "output_type": "stream",
       "stream": "stdout",
       "text": [
        "mkdir: data: File exists\r\n"
       ]
      }
     ],
     "prompt_number": 52
    },
    {
     "cell_type": "code",
     "collapsed": false,
     "input": [
      "cd $folder"
     ],
     "language": "python",
     "metadata": {},
     "outputs": [
      {
       "output_type": "stream",
       "stream": "stdout",
       "text": [
        "/Users/Mia/iPythonNoteBooks/data\n"
       ]
      }
     ],
     "prompt_number": 53
    },
    {
     "cell_type": "code",
     "collapsed": false,
     "input": [
      "with open(filename,'wb') as f:\n",
      "    f.write(downloaded.read())"
     ],
     "language": "python",
     "metadata": {},
     "outputs": [
      {
       "ename": "NameError",
       "evalue": "name 'downloaded' is not defined",
       "output_type": "pyerr",
       "traceback": [
        "\u001b[0;31m---------------------------------------------------------------------------\u001b[0m\n\u001b[0;31mNameError\u001b[0m                                 Traceback (most recent call last)",
        "\u001b[0;32m<ipython-input-54-0fbf0f803325>\u001b[0m in \u001b[0;36m<module>\u001b[0;34m()\u001b[0m\n\u001b[1;32m      1\u001b[0m \u001b[0;32mwith\u001b[0m \u001b[0mopen\u001b[0m\u001b[0;34m(\u001b[0m\u001b[0mfilename\u001b[0m\u001b[0;34m,\u001b[0m\u001b[0;34m'wb'\u001b[0m\u001b[0;34m)\u001b[0m \u001b[0;32mas\u001b[0m \u001b[0mf\u001b[0m\u001b[0;34m:\u001b[0m\u001b[0;34m\u001b[0m\u001b[0m\n\u001b[0;32m----> 2\u001b[0;31m     \u001b[0mf\u001b[0m\u001b[0;34m.\u001b[0m\u001b[0mwrite\u001b[0m\u001b[0;34m(\u001b[0m\u001b[0mdownloaded\u001b[0m\u001b[0;34m.\u001b[0m\u001b[0mread\u001b[0m\u001b[0;34m(\u001b[0m\u001b[0;34m)\u001b[0m\u001b[0;34m)\u001b[0m\u001b[0;34m\u001b[0m\u001b[0m\n\u001b[0m",
        "\u001b[0;31mNameError\u001b[0m: name 'downloaded' is not defined"
       ]
      }
     ],
     "prompt_number": 54
    },
    {
     "cell_type": "code",
     "collapsed": false,
     "input": [
      "mv /Users/Mia/Documents/TRTAging/StrawAging2013/trunk/figures_pdf/LumSlice_Low/root\\ files /Users/Mia/Documents/TRTAging/StrawAging2013/trunk/figures_pdf/LumSlice_Low/root_files"
     ],
     "language": "python",
     "metadata": {},
     "outputs": [],
     "prompt_number": 66
    },
    {
     "cell_type": "code",
     "collapsed": false,
     "input": [
      "pwd"
     ],
     "language": "python",
     "metadata": {},
     "outputs": []
    },
    {
     "cell_type": "code",
     "collapsed": false,
     "input": [
      "z = zipfile.ZipFile(filename)\n",
      "z.extractall('.')\n"
     ],
     "language": "python",
     "metadata": {},
     "outputs": []
    },
    {
     "cell_type": "code",
     "collapsed": false,
     "input": [
      "ls\n"
     ],
     "language": "python",
     "metadata": {},
     "outputs": []
    },
    {
     "cell_type": "code",
     "collapsed": false,
     "input": [
      "%bookmark fbdata"
     ],
     "language": "python",
     "metadata": {},
     "outputs": []
    },
    {
     "cell_type": "code",
     "collapsed": false,
     "input": [
      "%bookmark?"
     ],
     "language": "python",
     "metadata": {},
     "outputs": []
    },
    {
     "cell_type": "code",
     "collapsed": false,
     "input": [
      "cd fbdata"
     ],
     "language": "python",
     "metadata": {},
     "outputs": []
    },
    {
     "cell_type": "code",
     "collapsed": false,
     "input": [
      "import numpy as np"
     ],
     "language": "python",
     "metadata": {},
     "outputs": []
    },
    {
     "cell_type": "code",
     "collapsed": false,
     "input": [
      "a = np.random.random((10, 1000))\n",
      "print a[]"
     ],
     "language": "python",
     "metadata": {},
     "outputs": []
    },
    {
     "cell_type": "code",
     "collapsed": false,
     "input": [
      "w1 = np.where((a[1,:] > 0.5) & (a[3,:] > 0.5))\n",
      "w2 = np.where((a[1,:] > 0.5) & (a[3,:] > 0.5))[0]\n",
      "b = a[:, w2]\n",
      "print b"
     ],
     "language": "python",
     "metadata": {},
     "outputs": []
    },
    {
     "cell_type": "code",
     "collapsed": false,
     "input": [
      "print w1"
     ],
     "language": "python",
     "metadata": {},
     "outputs": []
    },
    {
     "cell_type": "code",
     "collapsed": false,
     "input": [],
     "language": "python",
     "metadata": {},
     "outputs": []
    }
   ],
   "metadata": {}
  }
 ]
}