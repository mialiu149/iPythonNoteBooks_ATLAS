{
 "metadata": {
  "name": ""
 },
 "nbformat": 3,
 "nbformat_minor": 0,
 "worksheets": [
  {
   "cells": [
    {
     "cell_type": "code",
     "collapsed": false,
     "input": [
      "mv  /Users/Mia/Documents/WgZgPhysics/Analysis/PlotWgVBS.ipynb /Users/Mia/iPythonNoteBooks/"
     ],
     "language": "python",
     "metadata": {},
     "outputs": [],
     "prompt_number": 4
    },
    {
     "cell_type": "code",
     "collapsed": false,
     "input": [
      "import rootnotes\n",
      "from ROOT import TCanvas, TFormula, TF1\n",
      "from ROOT import gROOT, gObjectTable\n",
      "c1 = rootnotes.default_canvas()\n",
      "form1 = TFormula( 'form1', 'sqrt(abs(x))' )\n",
      "form1.Eval( 2 )\n",
      "form1.Eval( -45 )"
     ],
     "language": "python",
     "metadata": {},
     "outputs": [
      {
       "metadata": {},
       "output_type": "pyout",
       "prompt_number": 6,
       "text": [
        "6.708203932499369"
       ]
      }
     ],
     "prompt_number": 6
    },
    {
     "cell_type": "code",
     "collapsed": false,
     "input": [
      "fun1 = TF1( 'fun1', 'abs(sin(x)/x)', 0, 10 )\n",
      "c1.SetGridx()\n",
      "c1.SetGridy()\n",
      "fun1.Draw()\n",
      "c1"
     ],
     "language": "python",
     "metadata": {},
     "outputs": [
      {
       "metadata": {},
       "output_type": "pyout",
       "png": "[encoded data removed]",
       "prompt_number": 7,
       "text": [
        "<ROOT.TCanvas object (\"icanvas\") at 0x109b8eff0>"
       ]
      }
     ],
     "prompt_number": 7
    },
    {
     "cell_type": "code",
     "collapsed": false,
     "input": [
      "%%script root \n",
      "TCanvas c1;\n",
      "TH1F h(\"h\",\"h\",10,0,10);\n",
      "h.Fill(5);\n",
      "h.Draw();"
     ],
     "language": "python",
     "metadata": {},
     "outputs": [
      {
       "output_type": "stream",
       "stream": "stdout",
       "text": [
        "  *******************************************\n",
        "  *                                         *\n",
        "  *        W E L C O M E  to  R O O T       *\n",
        "  *                                         *\n",
        "  *   Version   5.34/14  16 December 2013   *\n",
        "  *                                         *\n",
        "  *  You are welcome to visit our Web site  *\n",
        "  *          http://root.cern.ch            *\n",
        "  *                                         *\n",
        "  *******************************************\n",
        "\n",
        "ROOT 5.34/14 (v5-34-14@v5-34-14, Dec 16 2013, 12:23:58 on macosx64)\n",
        "\n",
        "CINT/ROOT C/C++ Interpreter version 5.18.00, July 2, 2010\n",
        "Type ? for help. Commands must be C++ statements.\n",
        "Enclose multiple statements between { }.\n"
       ]
      }
     ],
     "prompt_number": 4
    },
    {
     "cell_type": "code",
     "collapsed": false,
     "input": [
      "!ls -l -S "
     ],
     "language": "python",
     "metadata": {},
     "outputs": [
      {
       "output_type": "stream",
       "stream": "stdout",
       "text": [
        "total 1208\r\n",
        "-rw-r--r--   1 Mia  staff  610785 Jan 17 15:39 facebook.zip\r\n",
        "drwxr-xr-x  22 Mia  staff     748 Jan 17 15:40 \u001b[34mfacebook\u001b[m\u001b[m\r\n",
        "-rw-r--r--   1 Mia  staff     122 Jan 17 15:38 facebook.zip.cpgz\r\n",
        "drwxr-xr-x   2 Mia  staff      68 Jan 17 15:39 \u001b[34mdata\u001b[m\u001b[m\r\n"
       ]
      }
     ],
     "prompt_number": 5
    },
    {
     "cell_type": "code",
     "collapsed": false,
     "input": [
      "%hist 4"
     ],
     "language": "python",
     "metadata": {},
     "outputs": [
      {
       "output_type": "stream",
       "stream": "stdout",
       "text": [
        "ls\n"
       ]
      }
     ],
     "prompt_number": 6
    },
    {
     "cell_type": "code",
     "collapsed": false,
     "input": [
      "import networkx as nx"
     ],
     "language": "python",
     "metadata": {},
     "outputs": [],
     "prompt_number": 7
    },
    {
     "cell_type": "code",
     "collapsed": false,
     "input": [
      "cd data"
     ],
     "language": "python",
     "metadata": {},
     "outputs": [
      {
       "output_type": "stream",
       "stream": "stdout",
       "text": [
        "/Users/Mia/iPythonNoteBooks/data/data\n"
       ]
      }
     ],
     "prompt_number": 9
    },
    {
     "cell_type": "code",
     "collapsed": false,
     "input": [
      "ls"
     ],
     "language": "python",
     "metadata": {},
     "outputs": [],
     "prompt_number": 10
    },
    {
     "cell_type": "code",
     "collapsed": false,
     "input": [
      "cd .."
     ],
     "language": "python",
     "metadata": {},
     "outputs": [
      {
       "output_type": "stream",
       "stream": "stdout",
       "text": [
        "/Users/Mia/iPythonNoteBooks/data\n"
       ]
      }
     ],
     "prompt_number": 11
    },
    {
     "cell_type": "code",
     "collapsed": false,
     "input": [
      "ls\n"
     ],
     "language": "python",
     "metadata": {},
     "outputs": [
      {
       "output_type": "stream",
       "stream": "stdout",
       "text": [
        "\u001b[34mdata\u001b[m\u001b[m/              \u001b[34mfacebook\u001b[m\u001b[m/          facebook.zip       facebook.zip.cpgz\r\n"
       ]
      }
     ],
     "prompt_number": 12
    },
    {
     "cell_type": "code",
     "collapsed": false,
     "input": [
      "cd facebook"
     ],
     "language": "python",
     "metadata": {},
     "outputs": [
      {
       "output_type": "stream",
       "stream": "stdout",
       "text": [
        "/Users/Mia/iPythonNoteBooks/data/facebook\n"
       ]
      }
     ],
     "prompt_number": 13
    },
    {
     "cell_type": "code",
     "collapsed": false,
     "input": [
      "ls -l -S"
     ],
     "language": "python",
     "metadata": {},
     "outputs": [
      {
       "output_type": "stream",
       "stream": "stdout",
       "text": [
        "total 3352\r\n",
        "-rw-r--r--  1 Mia  staff  600274 Jan 17 15:40 1912.edges\r\n",
        "-rw-r--r--  1 Mia  staff  523802 Jan 17 15:40 107.edges\r\n",
        "-rw-r--r--  1 Mia  staff  280354 Jan 17 15:40 1684.edges\r\n",
        "-rw-r--r--  1 Mia  staff   96188 Jan 17 15:40 3437.edges\r\n",
        "-rw-r--r--  1 Mia  staff   51066 Jan 17 15:40 348.edges\r\n",
        "-rw-r--r--  1 Mia  staff   37228 Jan 17 15:40 0.edges\r\n",
        "-rw-r--r--  1 Mia  staff   27082 Jan 17 15:40 414.edges\r\n",
        "-rw-r--r--  1 Mia  staff   26496 Jan 17 15:40 686.edges\r\n",
        "-rw-r--r--  1 Mia  staff    5716 Jan 17 15:40 1912.circles\r\n",
        "-rw-r--r--  1 Mia  staff    4320 Jan 17 15:40 698.edges\r\n",
        "-rw-r--r--  1 Mia  staff    4022 Jan 17 15:40 1684.circles\r\n",
        "-rw-r--r--  1 Mia  staff    2914 Jan 17 15:40 3980.edges\r\n",
        "-rw-r--r--  1 Mia  staff    2510 Jan 17 15:40 107.circles\r\n",
        "-rw-r--r--  1 Mia  staff    2382 Jan 17 15:40 348.circles\r\n",
        "-rw-r--r--  1 Mia  staff    2056 Jan 17 15:40 686.circles\r\n",
        "-rw-r--r--  1 Mia  staff    1400 Jan 17 15:40 0.circles\r\n",
        "-rw-r--r--  1 Mia  staff    1238 Jan 17 15:40 3437.circles\r\n",
        "-rw-r--r--  1 Mia  staff     768 Jan 17 15:40 414.circles\r\n",
        "-rw-r--r--  1 Mia  staff     447 Jan 17 15:40 698.circles\r\n",
        "-rw-r--r--  1 Mia  staff     432 Jan 17 15:40 3980.circles\r\n"
       ]
      }
     ],
     "prompt_number": 14
    },
    {
     "cell_type": "code",
     "collapsed": false,
     "input": [
      "g=nx.read_edgelist('0.edges')"
     ],
     "language": "python",
     "metadata": {},
     "outputs": [],
     "prompt_number": 17
    },
    {
     "cell_type": "code",
     "collapsed": false,
     "input": [
      "ls"
     ],
     "language": "python",
     "metadata": {},
     "outputs": [
      {
       "output_type": "stream",
       "stream": "stdout",
       "text": [
        "0.circles     1684.circles  3437.circles  3980.circles  686.circles\r\n",
        "0.edges       1684.edges    3437.edges    3980.edges    686.edges\r\n",
        "107.circles   1912.circles  348.circles   414.circles   698.circles\r\n",
        "107.edges     1912.edges    348.edges     414.edges     698.edges\r\n"
       ]
      }
     ],
     "prompt_number": 18
    },
    {
     "cell_type": "code",
     "collapsed": false,
     "input": [
      "more 0.circles"
     ],
     "language": "python",
     "metadata": {},
     "outputs": [],
     "prompt_number": 19
    },
    {
     "cell_type": "code",
     "collapsed": false,
     "input": [],
     "language": "python",
     "metadata": {},
     "outputs": []
    }
   ],
   "metadata": {}
  }
 ]
}